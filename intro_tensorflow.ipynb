{
 "cells": [
  {
   "cell_type": "markdown",
   "metadata": {},
   "source": [
    "#  Introduction to TensorFlow\n",
    "\n",
    "TensorFlow is powerful but rather complex. It might look intimidating at first, but with a little practice you will quickly be more at ease with it.\n",
    "\n",
    "Let's start by importing the tensorflow and numpy libraries."
   ]
  },
  {
   "cell_type": "code",
   "execution_count": 1,
   "metadata": {},
   "outputs": [
    {
     "name": "stderr",
     "output_type": "stream",
     "text": [
      "/home/alexander/.local/lib/python3.6/site-packages/tensorflow/python/framework/dtypes.py:516: FutureWarning: Passing (type, 1) or '1type' as a synonym of type is deprecated; in a future version of numpy, it will be understood as (type, (1,)) / '(1,)type'.\n",
      "  _np_qint8 = np.dtype([(\"qint8\", np.int8, 1)])\n",
      "/home/alexander/.local/lib/python3.6/site-packages/tensorflow/python/framework/dtypes.py:517: FutureWarning: Passing (type, 1) or '1type' as a synonym of type is deprecated; in a future version of numpy, it will be understood as (type, (1,)) / '(1,)type'.\n",
      "  _np_quint8 = np.dtype([(\"quint8\", np.uint8, 1)])\n",
      "/home/alexander/.local/lib/python3.6/site-packages/tensorflow/python/framework/dtypes.py:518: FutureWarning: Passing (type, 1) or '1type' as a synonym of type is deprecated; in a future version of numpy, it will be understood as (type, (1,)) / '(1,)type'.\n",
      "  _np_qint16 = np.dtype([(\"qint16\", np.int16, 1)])\n",
      "/home/alexander/.local/lib/python3.6/site-packages/tensorflow/python/framework/dtypes.py:519: FutureWarning: Passing (type, 1) or '1type' as a synonym of type is deprecated; in a future version of numpy, it will be understood as (type, (1,)) / '(1,)type'.\n",
      "  _np_quint16 = np.dtype([(\"quint16\", np.uint16, 1)])\n",
      "/home/alexander/.local/lib/python3.6/site-packages/tensorflow/python/framework/dtypes.py:520: FutureWarning: Passing (type, 1) or '1type' as a synonym of type is deprecated; in a future version of numpy, it will be understood as (type, (1,)) / '(1,)type'.\n",
      "  _np_qint32 = np.dtype([(\"qint32\", np.int32, 1)])\n",
      "/home/alexander/.local/lib/python3.6/site-packages/tensorflow/python/framework/dtypes.py:525: FutureWarning: Passing (type, 1) or '1type' as a synonym of type is deprecated; in a future version of numpy, it will be understood as (type, (1,)) / '(1,)type'.\n",
      "  np_resource = np.dtype([(\"resource\", np.ubyte, 1)])\n",
      "/home/alexander/.local/lib/python3.6/site-packages/tensorboard/compat/tensorflow_stub/dtypes.py:541: FutureWarning: Passing (type, 1) or '1type' as a synonym of type is deprecated; in a future version of numpy, it will be understood as (type, (1,)) / '(1,)type'.\n",
      "  _np_qint8 = np.dtype([(\"qint8\", np.int8, 1)])\n",
      "/home/alexander/.local/lib/python3.6/site-packages/tensorboard/compat/tensorflow_stub/dtypes.py:542: FutureWarning: Passing (type, 1) or '1type' as a synonym of type is deprecated; in a future version of numpy, it will be understood as (type, (1,)) / '(1,)type'.\n",
      "  _np_quint8 = np.dtype([(\"quint8\", np.uint8, 1)])\n",
      "/home/alexander/.local/lib/python3.6/site-packages/tensorboard/compat/tensorflow_stub/dtypes.py:543: FutureWarning: Passing (type, 1) or '1type' as a synonym of type is deprecated; in a future version of numpy, it will be understood as (type, (1,)) / '(1,)type'.\n",
      "  _np_qint16 = np.dtype([(\"qint16\", np.int16, 1)])\n",
      "/home/alexander/.local/lib/python3.6/site-packages/tensorboard/compat/tensorflow_stub/dtypes.py:544: FutureWarning: Passing (type, 1) or '1type' as a synonym of type is deprecated; in a future version of numpy, it will be understood as (type, (1,)) / '(1,)type'.\n",
      "  _np_quint16 = np.dtype([(\"quint16\", np.uint16, 1)])\n",
      "/home/alexander/.local/lib/python3.6/site-packages/tensorboard/compat/tensorflow_stub/dtypes.py:545: FutureWarning: Passing (type, 1) or '1type' as a synonym of type is deprecated; in a future version of numpy, it will be understood as (type, (1,)) / '(1,)type'.\n",
      "  _np_qint32 = np.dtype([(\"qint32\", np.int32, 1)])\n",
      "/home/alexander/.local/lib/python3.6/site-packages/tensorboard/compat/tensorflow_stub/dtypes.py:550: FutureWarning: Passing (type, 1) or '1type' as a synonym of type is deprecated; in a future version of numpy, it will be understood as (type, (1,)) / '(1,)type'.\n",
      "  np_resource = np.dtype([(\"resource\", np.ubyte, 1)])\n"
     ]
    }
   ],
   "source": [
    "import tensorflow as tf\n",
    "import numpy as np"
   ]
  },
  {
   "cell_type": "markdown",
   "metadata": {},
   "source": [
    "## Tensors\n",
    "\n",
    "All the data structures in TensorFlow are stored in \"tensors\" which are n-dimensional arrays. Some examples below."
   ]
  },
  {
   "cell_type": "code",
   "execution_count": 2,
   "metadata": {},
   "outputs": [],
   "source": [
    "n_row = 3; n_col = 4; # number of rows and columns\n",
    "\n",
    "## Tensors with fixed values,\n",
    "tsr = tf.zeros([n_row, n_col])\n",
    "#tsr = tf.ones([n_row, n_col])\n",
    "#tsr = tf.fill([n_row, n_col], 3.14)\n",
    "#tsr = tf.constant([1,2,3])\n",
    "\n",
    "## with same shape,\n",
    "tsr_like = tf.zeros_like(tsr)\n",
    "#tsr_like = tf.ones_like(tsr)\n",
    "\n",
    "## from sequences,\n",
    "tsr_seq = tf.linspace(start=1.0, stop=3.0, num=3)\n",
    "#tsr_seq = tf.range(start=6, limit=15, delta=3)\n",
    "\n",
    "## with random values generator (be careful!)\n",
    "tsr_rnd = tf.random_uniform([n_row, n_col], minval=0, maxval=1)\n",
    "#tsr_rnd = tf.random_normal([n_row, n_col], mean=0.0, stddev=1.0)\n",
    "#tsr_rnd = tf.truncated_normal([n_row, n_col], mean=0.0, stddev=1.0)\n",
    "#tsr_rnd = tf.random_shuffle(input_tensor)\n",
    "#tsr_rnd = tf.random_crop(input_tensor, crop_size)\n",
    "#tsr_rnd = tf.random_crop(my_image, [height/2, width/2,3])\n",
    "\n",
    "## from a numpy array\n",
    "np_ar = np.array([[1.0, 2.0],[3.0, 4.0]]) # a numpy array\n",
    "tsr_from_np = tf.convert_to_tensor(np_ar)"
   ]
  },
  {
   "cell_type": "markdown",
   "metadata": {},
   "source": [
    "If you try to display a tensor as in Matlab, R, or numpy, you might be disappointed. (No worry, we will see how to display a tensor's values a bit later.)\n",
    "\n",
    "**Remark:** there exists an execution mode in which TF behaves more naturally, the so-called *eager execution*, it will be the default mode in v2."
   ]
  },
  {
   "cell_type": "code",
   "execution_count": 3,
   "metadata": {},
   "outputs": [
    {
     "name": "stdout",
     "output_type": "stream",
     "text": [
      "A numpy array:\n",
      " [[1. 2.]\n",
      " [3. 4.]] \n",
      "\n",
      "A tensor:\n",
      " Tensor(\"Const:0\", shape=(2, 2), dtype=float64) \n",
      "\n"
     ]
    }
   ],
   "source": [
    "print(\"A numpy array:\\n\", np_ar, \"\\n\")\n",
    "print(\"A tensor:\\n\", tsr_from_np, \"\\n\")"
   ]
  },
  {
   "cell_type": "markdown",
   "metadata": {},
   "source": [
    "Remark that all tensors have unique names. It is done automatically if you do not pass a name."
   ]
  },
  {
   "cell_type": "code",
   "execution_count": 4,
   "metadata": {},
   "outputs": [
    {
     "name": "stdout",
     "output_type": "stream",
     "text": [
      "I named this tensor:\n",
      " Tensor(\"mytensor:0\", shape=(2, 2), dtype=float32)\n"
     ]
    }
   ],
   "source": [
    "tsr_named = tf.zeros([2,2], name=\"mytensor\")\n",
    "print(\"I named this tensor:\\n\", tsr_named)\n",
    "# Check for yourself what is happenning bellow if you try to give the same name to a tensor!\n",
    "#tsr_named2 = tf.zeros([2,2], name=\"mytensor\")\n",
    "#print(\"I also named this tensor:\\n\", tsr_named2)"
   ]
  },
  {
   "cell_type": "markdown",
   "metadata": {},
   "source": [
    "## Placeholders and variables\n",
    "\n",
    "Placeholders are the *input* tensors to feed in the data, they are the $X_i$ and $Y_i$ observations. Variables are the *parameter* tensors to be optimized, they are the $\\theta$."
   ]
  },
  {
   "cell_type": "code",
   "execution_count": 14,
   "metadata": {},
   "outputs": [],
   "source": [
    "x = tf.placeholder(name='x', shape=(None,2), dtype='float32') # need to specify the shape and data type\n",
    "w = tf.Variable(name='w', initial_value=tf.fill([2,1],1.0), dtype='float32') # need to specify the initial_value "
   ]
  },
  {
   "cell_type": "markdown",
   "metadata": {},
   "source": [
    "## Graphs and sessions\n",
    "\n",
    "A computational graph defines the operations that you specified in your code. It does not compute anything, it does not store values. An operation is added to a graph forever!\n",
    "\n",
    "A session allows to execute (part of) graphs. It allocates resources (on one or more machines) and store intermediate results and variable values."
   ]
  },
  {
   "cell_type": "code",
   "execution_count": 15,
   "metadata": {},
   "outputs": [
    {
     "name": "stdout",
     "output_type": "stream",
     "text": [
      "Here is a tensor:\n",
      " [[1. 2.]\n",
      " [3. 4.]] \n",
      "\n",
      "Here is another one:\n",
      " [[0. 0. 0. 0.]\n",
      " [0. 0. 0. 0.]\n",
      " [0. 0. 0. 0.]] \n",
      "\n",
      "The random tensor:\n",
      " [[0.45383823 0.43326867 0.91634655 0.5853101 ]\n",
      " [0.39325774 0.36289895 0.90962124 0.12327242]\n",
      " [0.42637563 0.9781616  0.22612023 0.3724923 ]] \n",
      "\n",
      "The random tensor again (surprise!):\n",
      " [[0.34015954 0.5597311  0.6307229  0.1610514 ]\n",
      " [0.54381275 0.82062304 0.52373075 0.4953643 ]\n",
      " [0.27338898 0.44805825 0.68479216 0.24344456]] \n",
      "\n"
     ]
    }
   ],
   "source": [
    "sess = tf.Session() # create a session\n",
    "sess.run(tf.global_variables_initializer()) # variables ALWAYS need to be initialized\n",
    "\n",
    "## (finally) display some tensor values!\n",
    "print(\"Here is a tensor:\\n\", sess.run(tsr_from_np), \"\\n\")\n",
    "print(\"Here is another one:\\n\", sess.run(tsr_like), \"\\n\")\n",
    "print(\"The random tensor:\\n\", sess.run(tsr_rnd), \"\\n\")\n",
    "print(\"The random tensor again (surprise!):\\n\", sess.run(tsr_rnd), \"\\n\") "
   ]
  },
  {
   "cell_type": "markdown",
   "metadata": {},
   "source": [
    "Tensorflow creates by default a graph, but you can be specific when using graphs and sessions."
   ]
  },
  {
   "cell_type": "code",
   "execution_count": 11,
   "metadata": {},
   "outputs": [
    {
     "name": "stdout",
     "output_type": "stream",
     "text": [
      "before:\t 3.14\n",
      "after:\t 9.859601\n"
     ]
    }
   ],
   "source": [
    "# Create a new graph and add operations to it\n",
    "graph = tf.Graph()\n",
    "with graph.as_default():\n",
    "    variable = tf.Variable(3.14, name='myvar')\n",
    "    initializer = tf.global_variables_initializer()\n",
    "    assign = variable.assign(variable**2)\n",
    "\n",
    "with tf.Session(graph=graph) as sess:\n",
    "    sess.run(initializer)\n",
    "    print(\"before:\\t\", sess.run(variable))\n",
    "    sess.run(assign)\n",
    "    print(\"after:\\t\", sess.run(variable))"
   ]
  },
  {
   "cell_type": "markdown",
   "metadata": {},
   "source": [
    "It is possible to have  can have a first *rough* look at what is inside the Graphs as follows."
   ]
  },
  {
   "cell_type": "code",
   "execution_count": 8,
   "metadata": {},
   "outputs": [
    {
     "name": "stdout",
     "output_type": "stream",
     "text": [
      "The small graph we build just above:\n",
      " [<tf.Operation 'myvar/initial_value' type=Const>, <tf.Operation 'myvar' type=VariableV2>, <tf.Operation 'myvar/Assign' type=Assign>, <tf.Operation 'myvar/read' type=Identity>, <tf.Operation 'init' type=NoOp>, <tf.Operation 'pow/y' type=Const>, <tf.Operation 'pow' type=Pow>, <tf.Operation 'Assign' type=Assign>] \n",
      "\n"
     ]
    },
    {
     "data": {
      "text/plain": [
       "'/home/alexander/Classwork/MLFIN/graph.json'"
      ]
     },
     "execution_count": 8,
     "metadata": {},
     "output_type": "execute_result"
    }
   ],
   "source": [
    "#print(\"The default graph:\\n\", tf.get_default_graph().get_operations(), \"\\n\")\n",
    "print(\"The small graph we build just above:\\n\", graph.get_operations(), \"\\n\")\n",
    "\n",
    "# you can also save the graph in *.json or *.txt format which is slightly more readable\n",
    "import os\n",
    "tf.train.write_graph(graph, os.getcwd(), 'graph.json')"
   ]
  },
  {
   "cell_type": "markdown",
   "metadata": {},
   "source": [
    "Now let's input some data into our graph. This is done using a dictionnary."
   ]
  },
  {
   "cell_type": "code",
   "execution_count": 16,
   "metadata": {},
   "outputs": [
    {
     "name": "stdout",
     "output_type": "stream",
     "text": [
      "Random data:\n",
      " [[0.71888959 0.29174016]\n",
      " [0.39082558 0.44942791]\n",
      " [0.43826155 0.66566156]\n",
      " [0.47617649 0.8929768 ]\n",
      " [0.39654424 0.53329322]] \n",
      "\n",
      "Random data:\n",
      " [[0.71888959 0.29174016]\n",
      " [0.39082558 0.44942791]\n",
      " [0.43826155 0.66566156]\n",
      " [0.47617649 0.8929768 ]\n",
      " [0.39654424 0.53329322]] \n",
      "\n",
      "Load data and use variable:\n",
      " [[1.0106298 ]\n",
      " [0.8402535 ]\n",
      " [1.1039231 ]\n",
      " [1.3691533 ]\n",
      " [0.92983747]] \n",
      "\n"
     ]
    }
   ],
   "source": [
    "## put random data into a dict\n",
    "x_np = np.random.rand(5,2)\n",
    "mydict = {'x:0' : x_np}\n",
    "\n",
    "## get the 'x:0' tensor from the default computational graph, in case 'x' was re-assigned in between\n",
    "x = tf.get_default_graph().get_tensor_by_name(\"x:0\")\n",
    "## it is a bit different for variables\n",
    "w = [v for v in tf.global_variables() if v.name == \"w:0\"][0] \n",
    "                        \n",
    "## call operation\n",
    "print(\"Random data:\\n\", x_np, \"\\n\")\n",
    "print(\"Random data:\\n\", x_np, \"\\n\")\n",
    "print(\"Load data and use variable:\\n\", sess.run(tf.matmul(x,w), feed_dict=mydict), \"\\n\") # Note the second argument"
   ]
  },
  {
   "cell_type": "markdown",
   "metadata": {},
   "source": [
    "## Function operations and matrix computations\n",
    "\n",
    "Standard functions and basic matrix operations are available. "
   ]
  },
  {
   "cell_type": "code",
   "execution_count": 17,
   "metadata": {},
   "outputs": [
    {
     "name": "stdout",
     "output_type": "stream",
     "text": [
      "Multiply by a scalar:\n",
      " [[2. 0. 0.]\n",
      " [0. 4. 0.]\n",
      " [0. 0. 6.]] \n",
      "\n",
      "Matrix multiplication:\n",
      " [[ 5. 10. 15.]\n",
      " [ 5. 10. 15.]] \n",
      "\n"
     ]
    }
   ],
   "source": [
    "## create some matrices\n",
    "A = tf.diag([1.0, 2.0, 3.0]) # make a diagonal matrix from a list of floats\n",
    "B = tf.fill([2,3], 5.0)\n",
    "\n",
    "## do stuffs\n",
    "print(\"Multiply by a scalar:\\n\", sess.run(2.0 * A), \"\\n\")\n",
    "print(\"Matrix multiplication:\\n\", sess.run(tf.matmul(B, A)), \"\\n\")\n",
    "#print(\"Matrix transpose:\\n\", sess.run(tf.transpose(A)), \"\\n\")\n",
    "#print(\"Matrix determinant:\\n\", sess.run(tf.matrix_determinant(A)), \"\\n\")\n",
    "#print(\"Matrix inverse:\\n\", sess.run(tf.matrix_inverse(A)), \"\\n\")\n",
    "#print(\"Cholesky decomposition:\\n\", sess.run(tf.cholesky(A)), \"\\n\")\n",
    "## and many more...\n",
    "#print(\"Functions 'tf.linalg':\\n\", [fun for fun in dir(tf.linalg) if not str(fun).startswith('_', 0,1)], \"\\n\")\n",
    "\n",
    "## basic math functions are applied element-wise to tensors\n",
    "#print(\"Functions in 'tf.math':\\n\", [fun for fun in dir(tf.math) if not str(fun).startswith('_', 0,1)], \"\\n\")"
   ]
  },
  {
   "cell_type": "code",
   "execution_count": null,
   "metadata": {},
   "outputs": [],
   "source": []
  }
 ],
 "metadata": {
  "kernelspec": {
   "display_name": "Python 3",
   "language": "python",
   "name": "python3"
  },
  "language_info": {
   "codemirror_mode": {
    "name": "ipython",
    "version": 3
   },
   "file_extension": ".py",
   "mimetype": "text/x-python",
   "name": "python",
   "nbconvert_exporter": "python",
   "pygments_lexer": "ipython3",
   "version": "3.6.8"
  }
 },
 "nbformat": 4,
 "nbformat_minor": 2
}

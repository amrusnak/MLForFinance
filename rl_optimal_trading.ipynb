{
 "cells": [
  {
   "cell_type": "markdown",
   "metadata": {},
   "source": [
    "# Optimal allocation\n",
    "\n",
    "In this notebook, we will use different algorithms to learn when it is best to buy and sell an asset.\n",
    "\n",
    "Here is the setup:\n",
    "* action: short, neutral, or long the asset ($=0,1,2$)\n",
    "* state: the asset price (on a finite grid) & the current position \n",
    "* environment: generate new prices and transaction costs"
   ]
  },
  {
   "cell_type": "code",
   "execution_count": 1,
   "metadata": {},
   "outputs": [],
   "source": [
    "import numpy as np\n",
    "import time\n",
    "import matplotlib.pyplot as plt"
   ]
  },
  {
   "cell_type": "markdown",
   "metadata": {},
   "source": [
    "We first create a class defining the behavior of the environment. Similar logic as the `gym` environment from *OpenAI*, see https://gym.openai.com/.\n",
    "\n",
    "The $Q$-table is contructed as follows:\n",
    "\n",
    "| state (prev. action \\& price) / action        | $a_0=0$      | $a_1=1$      | $a_2=2$      |\n",
    "| :------------------ | :----------: | -----------: | -----------: | \n",
    "| $s_0=(0,p_0)$       | $Q(s_0,a_0)$ | $Q(s_0,a_1)$ | $Q(s_0,a_2)$ | \n",
    "| $s_1=(0,p_1)$       | $Q(s_1,a_0)$ | $Q(s_1,a_1)$ | $Q(s_1,a_2)$ | \n",
    "| $s_2=(0,p_2)$       | $Q(s_2,a_0)$ | $Q(s_2,a_1)$ | $Q(s_2,a_2)$ | \n",
    "| $\\vdots$            | $\\vdots$     | $\\vdots$     | $\\vdots$     | \n",
    "| $s_{n-1}=(2,p_{n-1})$  | $Q(s_{n-1},a_0)$ | $Q(s_{n-1},a_1)$ | $Q(s_{n-1},a_2)$ | \n",
    "| $s_n=(2,p_n)$       | $Q(s_n,a_0)$ | $Q(s_n,a_1)$ | $Q(s_n,a_2)$ | "
   ]
  },
  {
   "cell_type": "code",
   "execution_count": 4,
   "metadata": {},
   "outputs": [],
   "source": [
    "class myTradingEnv:\n",
    "    \n",
    "    max_price = 200. ## max price\n",
    "    mult = 50. ## price increment\n",
    "    n_prices = int(max_price/mult + 1)\n",
    "    n_actions = 3 ## number of possible actions = (short, neutral, long)\n",
    "    n_states = n_prices * n_actions ## state = (# of prices) x (# of actions)\n",
    "    \n",
    "    def __init__(self, max_steps):\n",
    "        \"\"\"\n",
    "        @param max_steps is the maximum number of states\n",
    "        \"\"\"\n",
    "        self.max_steps = max_steps\n",
    "        \n",
    "    def init_q(self):\n",
    "        \"\"\"\n",
    "        initialize the state-action Q matrix\n",
    "        -> rows = states (prices X previous actions)\n",
    "        -> columns = actions (short, neutral, long)\n",
    "        \"\"\"\n",
    "        q = np.random.rand(self.n_states, self.n_actions)\n",
    "        return q\n",
    "         \n",
    "    def get_state(self):\n",
    "        price = self.prices[self.last_step]\n",
    "        action = self.last_action\n",
    "        idx = int(price/self.mult + action * self.n_prices)\n",
    "        return(idx)\n",
    "    \n",
    "    def reset(self):\n",
    "        self.prices = np.zeros(self.max_steps)\n",
    "        self.actions = np.zeros(self.max_steps)\n",
    "        self.rewards = np.zeros(self.max_steps)\n",
    "        ##---------\n",
    "        ## NB: random initial state helps a lot!\n",
    "        ##---------\n",
    "        self.prices[0] = self.mult*np.random.randint(self.max_price/self.mult+1) ## random inital price\n",
    "        self.last_action = np.random.randint(self.n_actions) ## random initial position\n",
    "        ##\n",
    "        self.last_step = 0\n",
    "        self.current_state = self.get_state()\n",
    "        return self.current_state\n",
    "    \n",
    "    def step(self, a):\n",
    "        \"\"\"\n",
    "        generate the new state and the reward\n",
    "        @param a is the action taken by the agent\n",
    "        -----\n",
    "        implemented:\n",
    "        -> mean-reverting process\n",
    "        -----\n",
    "        NOT implemented:\n",
    "        -> reward function\n",
    "        -> transaction cost (later)\n",
    "        -> borrowing cost (optional)\n",
    "        -> price impact (optional)\n",
    "        -> agent risk-aversion (optional)\n",
    "        \"\"\"\n",
    "        ## get previous values\n",
    "        i = self.last_step\n",
    "        x = self.prices[i]\n",
    "        \n",
    "        ## move to next step\n",
    "        if 0 < x < self.max_price:\n",
    "            birth = np.random.rand() <= 0.5 + 0.1*(1. - x/self.max_price)\n",
    "            death = np.random.rand() <= 0.5 + 0.1*(x / self.max_price)\n",
    "            # We update the population size\n",
    "            x_new = x + self.mult*birth - self.mult*death\n",
    "        else:\n",
    "            ## repulsive boundaries\n",
    "            if x == 0:\n",
    "                x_new = self.mult\n",
    "            else:\n",
    "                x_new = self.max_price - self.mult\n",
    "        \n",
    "        ##----------\n",
    "        ## TODO: implement reward\n",
    "        ##----------\n",
    "        reward = (x_new - x) * (a - 1)        \n",
    "        ## save action\n",
    "        self.actions[i] = a\n",
    "        self.last_action = a\n",
    "        \n",
    "        ## update step\n",
    "        i += 1 \n",
    "        self.last_step = i\n",
    "        ## save price\n",
    "        self.prices[i] = x_new\n",
    "        ## save reward\n",
    "        self.rewards[i] = reward\n",
    "        \n",
    "        ## update current state\n",
    "        s_ = self.get_state()\n",
    "        self.current_state = s_\n",
    "        \n",
    "        ## output some useful information\n",
    "        info = \"\"\n",
    "        \n",
    "        ## end of the time series?\n",
    "        if i == self.max_steps - 1:\n",
    "            done = True\n",
    "        else:\n",
    "            done = False\n",
    "            \n",
    "        return s_, reward, done, info\n",
    "    \n",
    "    def simulate(self):\n",
    "        \"\"\"\n",
    "        FOR ILLUSTRATION ONLY\n",
    "        simulate a price trajectory, assuming no position\n",
    "        \"\"\"\n",
    "        self.reset()\n",
    "        for t in range(self.max_steps - 1):\n",
    "            self.step(0)"
   ]
  },
  {
   "cell_type": "markdown",
   "metadata": {},
   "source": [
    "Let's simulate the environment."
   ]
  },
  {
   "cell_type": "code",
   "execution_count": 5,
   "metadata": {},
   "outputs": [
    {
     "data": {
      "text/plain": [
       "[<matplotlib.lines.Line2D at 0x7f494115d048>]"
      ]
     },
     "execution_count": 5,
     "metadata": {},
     "output_type": "execute_result"
    },
    {
     "data": {
      "image/png": "[encoded data removed]",
      "text/plain": [
       "<Figure size 432x288 with 1 Axes>"
      ]
     },
     "metadata": {
      "needs_background": "light"
     },
     "output_type": "display_data"
    }
   ],
   "source": [
    "env = myTradingEnv(504) ## create environment\n",
    "env.simulate() ## simulate some trajectory\n",
    "plt.plot(env.prices, lw=2)"
   ]
  },
  {
   "cell_type": "markdown",
   "metadata": {},
   "source": [
    "The code below is a modified version examples produced by [this user](https://timetraveller-san.github.io/) (with corrections)."
   ]
  },
  {
   "cell_type": "code",
   "execution_count": 10,
   "metadata": {},
   "outputs": [],
   "source": [
    "def epsilon_greedy(Q, epsilon, n_actions, s):\n",
    "    \"\"\"\n",
    "    @param Q Q values state x action -> value\n",
    "    @param epsilon for exploration\n",
    "    @param n_actions number of states\n",
    "    @param s current state\n",
    "    \"\"\"\n",
    "    if np.random.rand() > epsilon:\n",
    "        ##----------\n",
    "        ## TODO\n",
    "        ##----------\n",
    "        action = np.argmax(Q[s, :])\n",
    "    else:\n",
    "        ##----------\n",
    "        ## TODO\n",
    "        ##----------\n",
    "        action = np.random.randint(0, n_actions, s)\n",
    "    return action\n",
    "\n",
    "def test_agent(Q, env, n_tests, seed=0):\n",
    "    \"\"\"\n",
    "    This function will be used later when we want to test the fitted tables.\n",
    "    @param Q q-table\n",
    "    @param env trading env\n",
    "    @param n_tests number of simulations to run\n",
    "    @param seed random seed initialization\n",
    "    \"\"\"\n",
    "    np.random.seed(seed)\n",
    "    results = []\n",
    "    for test in range(n_tests):\n",
    "        print(f\"Test #{test}\")\n",
    "        s = env.reset()\n",
    "        n_actions = env.n_actions\n",
    "        epsilon = 0 ## no exploration!\n",
    "        total_reward = 0\n",
    "        done = False\n",
    "        while not done:\n",
    "            a = epsilon_greedy(Q, epsilon, n_actions, s)\n",
    "            #print(f\"State {s} Action {a}\")\n",
    "            s, reward, done, info = env.step(a)\n",
    "            total_reward += reward\n",
    "        print(f\"Episode reward: {total_reward}\")\n",
    "        results.append([env.prices, env.actions, total_reward])\n",
    "    return(results)"
   ]
  },
  {
   "cell_type": "markdown",
   "metadata": {},
   "source": [
    "## SARSA"
   ]
  },
  {
   "cell_type": "code",
   "execution_count": 16,
   "metadata": {},
   "outputs": [],
   "source": [
    "def sarsa(alpha, gamma, epsilon, n_episodes, max_steps, test=False):\n",
    "    \"\"\"\n",
    "    @param alpha learning rate\n",
    "    @param gamma decay factor\n",
    "    @param epsilon for exploration\n",
    "    @param episodes number of train episodes\n",
    "    @param max_steps for max step in each episode\n",
    "    \"\"\"\n",
    "    env = myTradingEnv(max_steps)\n",
    "    n_actions = env.n_actions\n",
    "    Q = env.init_q()\n",
    "    timestep_reward = []\n",
    "    for episode in range(n_episodes):\n",
    "        print(f\"Episode: {episode}\")\n",
    "        total_reward = 0\n",
    "        ##----------\n",
    "        ## TODO\n",
    "        ##----------\n",
    "        ## learning rate update for this episode\n",
    "        alpha_e = alpha / (1 + episode)\n",
    "        ## prepare env and return current state\n",
    "        s = env.reset()\n",
    "        ## first action\n",
    "        ##----------\n",
    "        ## TODO\n",
    "        ##----------\n",
    "        a = epsilon_greedy(Q, epsilon, n_actions, s)\n",
    "        t = 0\n",
    "        done = False\n",
    "        while t < env.max_steps:\n",
    "            t += 1\n",
    "            s_, reward, done, info = env.step(a)\n",
    "            total_reward += reward\n",
    "            ##----------\n",
    "            ## TODO\n",
    "            ##----------\n",
    "            ## A_{t+1} action\n",
    "            a_ = epsilon_greedy(Q, epsilon, n_actions, s_)\n",
    "            if done:\n",
    "                ##----------\n",
    "                ## TODO\n",
    "                ##----------\n",
    "                Q[s, a] = Q[s,a] + alpha_e*(reward + - Q[s,a])\n",
    "            else:\n",
    "                ##----------\n",
    "                ## TODO\n",
    "                ##----------\n",
    "                Q[s, a] = Q[s,a] + alpha_e*(reward + gamma*Q[s_,a_] - Q[s,a])\n",
    "                \n",
    "            ##----------\n",
    "            ## TODO\n",
    "            ##----------\n",
    "            ## next period simulation (state + policy/action)\n",
    "            s, a = s_, a_\n",
    "            if done:\n",
    "                print(f\"This episode took {t} timesteps and reward {total_reward}\")\n",
    "                timestep_reward.append(total_reward)\n",
    "                break\n",
    "    return timestep_reward, Q, env"
   ]
  },
  {
   "cell_type": "markdown",
   "metadata": {},
   "source": [
    "## Q-learning"
   ]
  },
  {
   "cell_type": "code",
   "execution_count": 7,
   "metadata": {},
   "outputs": [],
   "source": [
    "def qlearning(alpha, gamma, epsilon, n_episodes, max_steps, test=False):\n",
    "    \"\"\"\n",
    "    @param alpha learning rate\n",
    "    @param gamma decay factor\n",
    "    @param epsilon for exploration\n",
    "    @param episodes number of train episodes\n",
    "    @param max_steps for max step in each episode\n",
    "    \"\"\"\n",
    "    env = myTradingEnv(max_steps)\n",
    "    n_actions = env.n_actions\n",
    "    Q = env.init_q()\n",
    "    timestep_reward = []\n",
    "    for episode in range(n_episodes):\n",
    "        print(f\"Episode: {episode}\")\n",
    "        total_reward = 0\n",
    "        ##----------\n",
    "        ## TODO\n",
    "        ##----------\n",
    "        ## learning rate update for this episode\n",
    "        alpha_e = alpha / (1 + episode)\n",
    "        ## prepare env and return current state\n",
    "        s = env.reset()\n",
    "        ##----------\n",
    "        ## TODO\n",
    "        ##----------\n",
    "        ## first action\n",
    "        a = epsilon_greedy(Q, epsilon, n_actions, s)\n",
    "        t = 0\n",
    "        done = False\n",
    "        while t < max_steps:\n",
    "            t += 1\n",
    "            s_, reward, done, info = env.step(a)\n",
    "            total_reward += reward\n",
    "            ##----------\n",
    "            ## TODO\n",
    "            ##----------\n",
    "            ## A_{t+1} action\n",
    "            a_ = epsilon_greedy(Q, 0, n_actions, s_)\n",
    "            if done:\n",
    "                ##----------\n",
    "                ## TODO\n",
    "                ##----------\n",
    "                Q[s, a] = Q[s,a] +alpha_e*(reward - Q[s,a])\n",
    "            else:\n",
    "                ##----------\n",
    "                ## TODO\n",
    "                ##----------\n",
    "                Q[s, a] = Q[s,a] +alpha_e*(reward + gamma*Q[s_,a_] - Q[s,a])\n",
    "            ##----------\n",
    "            ## TODO\n",
    "            ##----------\n",
    "            ## next period simulation (state + policy/action)\n",
    "            s, a = s_, epsilon_greedy(Q, epsilon, n_actions, s)\n",
    "            if done:\n",
    "                print(f\"This episode took {t} timesteps and reward {total_reward}\")\n",
    "                timestep_reward.append(total_reward)\n",
    "                break\n",
    "    return timestep_reward, Q, env"
   ]
  },
  {
   "cell_type": "markdown",
   "metadata": {},
   "source": [
    "## Learn the optimal policy\n"
   ]
  },
  {
   "cell_type": "code",
   "execution_count": 17,
   "metadata": {},
   "outputs": [
    {
     "name": "stdout",
     "output_type": "stream",
     "text": [
      "Episode: 0\n"
     ]
    },
    {
     "ename": "ValueError",
     "evalue": "setting an array element with a sequence.",
     "output_type": "error",
     "traceback": [
      "\u001b[0;31m---------------------------------------------------------------------------\u001b[0m",
      "\u001b[0;31mValueError\u001b[0m                                Traceback (most recent call last)",
      "\u001b[0;32m<ipython-input-17-03b982fa20af>\u001b[0m in \u001b[0;36m<module>\u001b[0;34m\u001b[0m\n\u001b[1;32m      9\u001b[0m \u001b[0;34m\u001b[0m\u001b[0m\n\u001b[1;32m     10\u001b[0m \u001b[0;31m## runs\u001b[0m\u001b[0;34m\u001b[0m\u001b[0;34m\u001b[0m\u001b[0;34m\u001b[0m\u001b[0m\n\u001b[0;32m---> 11\u001b[0;31m \u001b[0mtimestep_reward_1\u001b[0m\u001b[0;34m,\u001b[0m \u001b[0mQ_1\u001b[0m\u001b[0;34m,\u001b[0m \u001b[0menv_1\u001b[0m \u001b[0;34m=\u001b[0m \u001b[0msarsa\u001b[0m\u001b[0;34m(\u001b[0m\u001b[0malpha\u001b[0m\u001b[0;34m,\u001b[0m \u001b[0mgamma\u001b[0m\u001b[0;34m,\u001b[0m \u001b[0mepsilon\u001b[0m\u001b[0;34m,\u001b[0m \u001b[0mn_episodes\u001b[0m\u001b[0;34m,\u001b[0m \u001b[0mmax_steps\u001b[0m\u001b[0;34m)\u001b[0m\u001b[0;34m\u001b[0m\u001b[0;34m\u001b[0m\u001b[0m\n\u001b[0m\u001b[1;32m     12\u001b[0m \u001b[0mtimestep_reward_2\u001b[0m\u001b[0;34m,\u001b[0m \u001b[0mQ_2\u001b[0m\u001b[0;34m,\u001b[0m \u001b[0menv_2\u001b[0m \u001b[0;34m=\u001b[0m \u001b[0mqlearning\u001b[0m\u001b[0;34m(\u001b[0m\u001b[0malpha\u001b[0m\u001b[0;34m,\u001b[0m \u001b[0mgamma\u001b[0m\u001b[0;34m,\u001b[0m \u001b[0mepsilon\u001b[0m\u001b[0;34m,\u001b[0m \u001b[0mn_episodes\u001b[0m\u001b[0;34m,\u001b[0m \u001b[0mmax_steps\u001b[0m\u001b[0;34m)\u001b[0m\u001b[0;34m\u001b[0m\u001b[0;34m\u001b[0m\u001b[0m\n",
      "\u001b[0;32m<ipython-input-16-3a4815599cb6>\u001b[0m in \u001b[0;36msarsa\u001b[0;34m(alpha, gamma, epsilon, n_episodes, max_steps, test)\u001b[0m\n\u001b[1;32m     46\u001b[0m                 \u001b[0;31m## TODO\u001b[0m\u001b[0;34m\u001b[0m\u001b[0;34m\u001b[0m\u001b[0;34m\u001b[0m\u001b[0m\n\u001b[1;32m     47\u001b[0m                 \u001b[0;31m##----------\u001b[0m\u001b[0;34m\u001b[0m\u001b[0;34m\u001b[0m\u001b[0;34m\u001b[0m\u001b[0m\n\u001b[0;32m---> 48\u001b[0;31m                 \u001b[0mQ\u001b[0m\u001b[0;34m[\u001b[0m\u001b[0ms\u001b[0m\u001b[0;34m,\u001b[0m \u001b[0ma\u001b[0m\u001b[0;34m]\u001b[0m \u001b[0;34m=\u001b[0m \u001b[0mQ\u001b[0m\u001b[0;34m[\u001b[0m\u001b[0ms\u001b[0m\u001b[0;34m,\u001b[0m\u001b[0ma\u001b[0m\u001b[0;34m]\u001b[0m \u001b[0;34m+\u001b[0m \u001b[0malpha_e\u001b[0m\u001b[0;34m*\u001b[0m\u001b[0;34m(\u001b[0m\u001b[0mreward\u001b[0m \u001b[0;34m+\u001b[0m \u001b[0mgamma\u001b[0m\u001b[0;34m*\u001b[0m\u001b[0mQ\u001b[0m\u001b[0;34m[\u001b[0m\u001b[0ms_\u001b[0m\u001b[0;34m,\u001b[0m\u001b[0ma_\u001b[0m\u001b[0;34m]\u001b[0m \u001b[0;34m-\u001b[0m \u001b[0mQ\u001b[0m\u001b[0;34m[\u001b[0m\u001b[0ms\u001b[0m\u001b[0;34m,\u001b[0m\u001b[0ma\u001b[0m\u001b[0;34m]\u001b[0m\u001b[0;34m)\u001b[0m\u001b[0;34m\u001b[0m\u001b[0;34m\u001b[0m\u001b[0m\n\u001b[0m\u001b[1;32m     49\u001b[0m \u001b[0;34m\u001b[0m\u001b[0m\n\u001b[1;32m     50\u001b[0m             \u001b[0;31m##----------\u001b[0m\u001b[0;34m\u001b[0m\u001b[0;34m\u001b[0m\u001b[0;34m\u001b[0m\u001b[0m\n",
      "\u001b[0;31mValueError\u001b[0m: setting an array element with a sequence."
     ]
    }
   ],
   "source": [
    "##----------\n",
    "## TODO: set hyper-parameters\n",
    "##----------\n",
    "alpha = 0.5 ## initial learning rate\n",
    "gamma = 0.9 ## discount factor\n",
    "epsilon = 0.1 ## policy randomization\n",
    "n_episodes = 1000 ## number of episodes\n",
    "max_steps = 252 * 2 ## number of days \n",
    "\n",
    "## runs\n",
    "timestep_reward_1, Q_1, env_1 = sarsa(alpha, gamma, epsilon, n_episodes, max_steps)\n",
    "timestep_reward_2, Q_2, env_2 = qlearning(alpha, gamma, epsilon, n_episodes, max_steps)"
   ]
  },
  {
   "cell_type": "markdown",
   "metadata": {},
   "source": [
    "## Analyze results\n",
    "\n",
    "Let's first see how the total reward evolved over episodes, we use a moving average to smooth the noise a little bit."
   ]
  },
  {
   "cell_type": "code",
   "execution_count": null,
   "metadata": {},
   "outputs": [],
   "source": [
    "## compute moving averages\n",
    "weights = np.ones((100,))/100\n",
    "ma_1 = np.convolve(timestep_reward_1, weights, mode='valid')\n",
    "ma_2 = np.convolve(timestep_reward_2, weights, mode='valid')\n",
    "\n",
    "plt.plot(ma_1)\n",
    "plt.plot(ma_2)\n",
    "plt.legend([\"SARSA\", \"Q-learning\"])\n",
    "plt.show()"
   ]
  },
  {
   "cell_type": "markdown",
   "metadata": {},
   "source": [
    "Let's now have a look at the optimal actions on a particular price trajectory."
   ]
  },
  {
   "cell_type": "code",
   "execution_count": null,
   "metadata": {},
   "outputs": [],
   "source": [
    "seed = 2\n",
    "n_tests = 1\n",
    "results_1 = test_agent(Q_1, env, n_tests, seed)\n",
    "results_2 = test_agent(Q_2, env, n_tests, seed)\n",
    "\n",
    "plt.figure(figsize=(20,10))\n",
    "plt.subplot(2,1,1)\n",
    "plt.title('prices')\n",
    "plt.xticks([])\n",
    "plt.plot(results_1[0][0])\n",
    "plt.subplot(2,1,2)\n",
    "plt.title('actions')\n",
    "plt.plot(results_1[0][1] - 1) ## minus one \n",
    "plt.plot(results_2[0][1] - 1) ## minus one \n",
    "plt.legend([\"SARSA\", \"Q-learning\"])\n",
    "plt.show()"
   ]
  },
  {
   "cell_type": "markdown",
   "metadata": {},
   "source": [
    "Are the total rewards actually better with one method?"
   ]
  },
  {
   "cell_type": "code",
   "execution_count": null,
   "metadata": {},
   "outputs": [],
   "source": [
    "seed = 2\n",
    "n_tests = 200\n",
    "results_1 = test_agent(Q_1, env, n_tests, seed);\n",
    "results_2 = test_agent(Q_2, env, n_tests, seed);\n",
    "\n",
    "rew_1, rew_2 = [], []\n",
    "for i in range(n_tests):\n",
    "    rew_1.append(results_1[i][2])\n",
    "    rew_2.append(results_2[i][2])"
   ]
  },
  {
   "cell_type": "code",
   "execution_count": null,
   "metadata": {},
   "outputs": [],
   "source": [
    "plt.figure()    \n",
    "bins = np.histogram(np.hstack((rew_1, rew_2)), bins=50)[1] #get the bin edges\n",
    "plt.hist(rew_1, bins, alpha=0.5)\n",
    "plt.hist(rew_2, bins, alpha=0.5)\n",
    "plt.legend([\"SARSA\", \"Q-learning\"])\n",
    "plt.show()"
   ]
  },
  {
   "cell_type": "markdown",
   "metadata": {},
   "source": [
    "### Sanity checks\n",
    "\n",
    "Without frictions (such as rebalancing or shorting costs) the current position (last action) should not matter. Hence the Q matrix should converge to three similar block matrices.\n",
    "\n",
    "With frictions, we should observe some differences."
   ]
  },
  {
   "cell_type": "code",
   "execution_count": null,
   "metadata": {},
   "outputs": [],
   "source": [
    "def plot_Q(Q, env):\n",
    "    n_prices = env.n_prices\n",
    "    Q_short = Q[:n_prices,:]\n",
    "    Q_neutral = Q[n_prices:2*n_prices,:]\n",
    "    Q_long = Q[2*n_prices:,:]\n",
    "    Q_mats = np.concatenate([Q_short, np.nan*np.zeros((n_prices,1)), \n",
    "                             Q_neutral, np.nan*np.zeros((n_prices,1)),\n",
    "                             Q_long], axis=1)\n",
    "    plt.imshow(Q_mats, cmap='hot', interpolation='nearest')\n",
    "    plt.colorbar() \n",
    "    plt.xticks([]), plt.yticks([])\n",
    "    plt.show()"
   ]
  },
  {
   "cell_type": "code",
   "execution_count": null,
   "metadata": {},
   "outputs": [],
   "source": [
    "plot_Q(Q_1, env_1)\n",
    "plot_Q(Q_2, env_2)"
   ]
  },
  {
   "cell_type": "code",
   "execution_count": null,
   "metadata": {},
   "outputs": [],
   "source": []
  }
 ],
 "metadata": {
  "kernelspec": {
   "display_name": "Python 3",
   "language": "python",
   "name": "python3"
  },
  "language_info": {
   "codemirror_mode": {
    "name": "ipython",
    "version": 3
   },
   "file_extension": ".py",
   "mimetype": "text/x-python",
   "name": "python",
   "nbconvert_exporter": "python",
   "pygments_lexer": "ipython3",
   "version": "3.6.8"
  }
 },
 "nbformat": 4,
 "nbformat_minor": 2
}

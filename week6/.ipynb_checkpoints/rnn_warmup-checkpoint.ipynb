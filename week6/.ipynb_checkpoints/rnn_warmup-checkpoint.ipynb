{
 "cells": [
  {
   "cell_type": "markdown",
   "metadata": {},
   "source": [
    "# Recurrent neural networks with Keras\n",
    "\n",
    "\n",
    "In this notebook we will build RNN models. These models have been initially designed for sequence-to-sequence modeling such as text, hence we will see that using them for time-series modeling is not yet straightforward."
   ]
  },
  {
   "cell_type": "code",
   "execution_count": 1,
   "metadata": {},
   "outputs": [
    {
     "name": "stderr",
     "output_type": "stream",
     "text": [
      "/home/alexander/.local/lib/python3.6/site-packages/tensorflow/python/framework/dtypes.py:516: FutureWarning: Passing (type, 1) or '1type' as a synonym of type is deprecated; in a future version of numpy, it will be understood as (type, (1,)) / '(1,)type'.\n",
      "  _np_qint8 = np.dtype([(\"qint8\", np.int8, 1)])\n",
      "/home/alexander/.local/lib/python3.6/site-packages/tensorflow/python/framework/dtypes.py:517: FutureWarning: Passing (type, 1) or '1type' as a synonym of type is deprecated; in a future version of numpy, it will be understood as (type, (1,)) / '(1,)type'.\n",
      "  _np_quint8 = np.dtype([(\"quint8\", np.uint8, 1)])\n",
      "/home/alexander/.local/lib/python3.6/site-packages/tensorflow/python/framework/dtypes.py:518: FutureWarning: Passing (type, 1) or '1type' as a synonym of type is deprecated; in a future version of numpy, it will be understood as (type, (1,)) / '(1,)type'.\n",
      "  _np_qint16 = np.dtype([(\"qint16\", np.int16, 1)])\n",
      "/home/alexander/.local/lib/python3.6/site-packages/tensorflow/python/framework/dtypes.py:519: FutureWarning: Passing (type, 1) or '1type' as a synonym of type is deprecated; in a future version of numpy, it will be understood as (type, (1,)) / '(1,)type'.\n",
      "  _np_quint16 = np.dtype([(\"quint16\", np.uint16, 1)])\n",
      "/home/alexander/.local/lib/python3.6/site-packages/tensorflow/python/framework/dtypes.py:520: FutureWarning: Passing (type, 1) or '1type' as a synonym of type is deprecated; in a future version of numpy, it will be understood as (type, (1,)) / '(1,)type'.\n",
      "  _np_qint32 = np.dtype([(\"qint32\", np.int32, 1)])\n",
      "/home/alexander/.local/lib/python3.6/site-packages/tensorflow/python/framework/dtypes.py:525: FutureWarning: Passing (type, 1) or '1type' as a synonym of type is deprecated; in a future version of numpy, it will be understood as (type, (1,)) / '(1,)type'.\n",
      "  np_resource = np.dtype([(\"resource\", np.ubyte, 1)])\n",
      "/usr/lib/python3/dist-packages/requests/__init__.py:80: RequestsDependencyWarning: urllib3 (1.25.6) or chardet (3.0.4) doesn't match a supported version!\n",
      "  RequestsDependencyWarning)\n",
      "/home/alexander/.local/lib/python3.6/site-packages/tensorboard/compat/tensorflow_stub/dtypes.py:541: FutureWarning: Passing (type, 1) or '1type' as a synonym of type is deprecated; in a future version of numpy, it will be understood as (type, (1,)) / '(1,)type'.\n",
      "  _np_qint8 = np.dtype([(\"qint8\", np.int8, 1)])\n",
      "/home/alexander/.local/lib/python3.6/site-packages/tensorboard/compat/tensorflow_stub/dtypes.py:542: FutureWarning: Passing (type, 1) or '1type' as a synonym of type is deprecated; in a future version of numpy, it will be understood as (type, (1,)) / '(1,)type'.\n",
      "  _np_quint8 = np.dtype([(\"quint8\", np.uint8, 1)])\n",
      "/home/alexander/.local/lib/python3.6/site-packages/tensorboard/compat/tensorflow_stub/dtypes.py:543: FutureWarning: Passing (type, 1) or '1type' as a synonym of type is deprecated; in a future version of numpy, it will be understood as (type, (1,)) / '(1,)type'.\n",
      "  _np_qint16 = np.dtype([(\"qint16\", np.int16, 1)])\n",
      "/home/alexander/.local/lib/python3.6/site-packages/tensorboard/compat/tensorflow_stub/dtypes.py:544: FutureWarning: Passing (type, 1) or '1type' as a synonym of type is deprecated; in a future version of numpy, it will be understood as (type, (1,)) / '(1,)type'.\n",
      "  _np_quint16 = np.dtype([(\"quint16\", np.uint16, 1)])\n",
      "/home/alexander/.local/lib/python3.6/site-packages/tensorboard/compat/tensorflow_stub/dtypes.py:545: FutureWarning: Passing (type, 1) or '1type' as a synonym of type is deprecated; in a future version of numpy, it will be understood as (type, (1,)) / '(1,)type'.\n",
      "  _np_qint32 = np.dtype([(\"qint32\", np.int32, 1)])\n",
      "/home/alexander/.local/lib/python3.6/site-packages/tensorboard/compat/tensorflow_stub/dtypes.py:550: FutureWarning: Passing (type, 1) or '1type' as a synonym of type is deprecated; in a future version of numpy, it will be understood as (type, (1,)) / '(1,)type'.\n",
      "  np_resource = np.dtype([(\"resource\", np.ubyte, 1)])\n"
     ]
    }
   ],
   "source": [
    "import numpy as np\n",
    "from tensorflow.keras.layers import Input, Dense, SimpleRNN\n",
    "from tensorflow.keras.models import Sequential, Model"
   ]
  },
  {
   "cell_type": "markdown",
   "metadata": {},
   "source": [
    "## Warm-up \n",
    "\n",
    "Let's first recall how we would build a standard ANN model. There are two ways. Assume the input shape is 5."
   ]
  },
  {
   "cell_type": "code",
   "execution_count": 2,
   "metadata": {},
   "outputs": [],
   "source": [
    "## first way : with Sequential for simple models\n",
    "\n",
    "model = None\n",
    "\n",
    "## display model sunmmary\n",
    "\n",
    "\n",
    "## prepare some dummy data. NB the reshape!\n",
    "data = np.array([0.1, 0.2, 0.3, 0.4, 0.5]).reshape((1,5)) ## (observations, features)\n",
    "\n",
    "## make a prediction\n"
   ]
  },
  {
   "cell_type": "code",
   "execution_count": null,
   "metadata": {},
   "outputs": [],
   "source": [
    "## second way : with Model for more complex models\n",
    "input1 = Input(shape=(5))\n",
    "\n",
    "## TODO"
   ]
  },
  {
   "cell_type": "markdown",
   "metadata": {},
   "source": [
    "## RNN training\n",
    "\n",
    "The tricky part with RNN is that the input vector is a fixed 2-dimensional where:\n",
    "* the first coordinate is the number of ordered elements per sequence (= observations such as days)\n",
    "* the second element is the number of features per element (= number of stocks)\n",
    "\n",
    "Therefore, we need to set the number of days on which the model will be trained. At the same time, the training data must 3-dimensional where\n",
    "* the first coordinate the number of sequences (= time series)\n",
    "* the second and third coordinates are as above\n",
    "\n",
    "because one model can be trained on many sequences (=times series)"
   ]
  },
  {
   "cell_type": "code",
   "execution_count": null,
   "metadata": {},
   "outputs": [],
   "source": [
    "## assume that we have a time series with 5 dates\n",
    "input1 = Input(shape=(5, 1))\n",
    "\n",
    "## TODO\n",
    "\n",
    "## prepare some dummy data. NB the reshape!\n",
    "data = np.array([0.1, 0.2, 0.3, 0.4, 0.5]).reshape((1,5,1))## (observations, timestamps, features)\n",
    "\n",
    "## make a prediction\n"
   ]
  },
  {
   "cell_type": "markdown",
   "metadata": {},
   "source": [
    "In applications, we might be interested to also ouput the hidden state values, so let's see how we can do that."
   ]
  },
  {
   "cell_type": "code",
   "execution_count": null,
   "metadata": {},
   "outputs": [],
   "source": [
    "## TODO"
   ]
  },
  {
   "cell_type": "markdown",
   "metadata": {},
   "source": [
    "## RNN testing and live\n",
    "\n",
    "At testing time, we may want to:\n",
    "* not run model on the entire dataset for each prediction!\n",
    "* use the last hidden state\n",
    "\n",
    "Indeed, each time a prediction is made as above, Keras use the default initial state NOT the latest."
   ]
  },
  {
   "cell_type": "code",
   "execution_count": null,
   "metadata": {},
   "outputs": [],
   "source": [
    "input1 = Input(shape=(1, 1)) ## x_t : pass just one observation\n",
    "input2 = Input(shape=(1)) ## h_t : assuming one hidden state\n",
    "\n",
    "## build the model\n",
    "model_onestep = None\n",
    "\n",
    "## transfer the weights from the trained model\n",
    "model_onestep.set_weights([w for w in model.get_weights()])\n",
    "\n",
    "## prepare data and make a prediction\n",
    "data = [np.array(0.6).reshape((1,1,1)), ## x_t\n",
    "        np.array(1.0).reshape((1,1))    ## h_t\n",
    "       ]"
   ]
  },
  {
   "cell_type": "markdown",
   "metadata": {},
   "source": [
    "## Custom RNN layer (advanced topic)\n",
    "\n",
    "Below is a sample code illustrating how you can build your own RNN layer."
   ]
  },
  {
   "cell_type": "code",
   "execution_count": null,
   "metadata": {},
   "outputs": [],
   "source": [
    "from tensorflow.keras.layers import RNN\n",
    "from tensorflow import keras\n",
    "K = keras.backend\n",
    "\n",
    "class MySimpleRNNCell(keras.layers.Layer):\n",
    "    \n",
    "    ## cell initialization\n",
    "    def __init__(self, units, **kwargs):\n",
    "        self.units = units\n",
    "        self.state_size = units\n",
    "        super(MySimpleRNNCell, self).__init__(**kwargs)\n",
    "\n",
    "    ## prepare the variables given a specific input tensor\n",
    "    def build(self, input_shape):\n",
    "        self.kernel = self.add_weight(\n",
    "            shape=(input_shape[-1], self.units),\n",
    "            name='kernel')\n",
    "        self.recurrent_kernel = self.add_weight(\n",
    "            shape=(self.units, self.units),\n",
    "            name='recurrent_kernel')\n",
    "        self.bias = self.add_weight(\n",
    "            shape=(1,self.units),\n",
    "            name='bias')\n",
    "        self.built = True\n",
    "    \n",
    "    ## this is smart function transforming input and states\n",
    "    def call(self, inputs, states):\n",
    "        prev_output = states[0]\n",
    "        h = K.dot(inputs, self.kernel) + self.bias\n",
    "        h = h + K.dot(prev_output, self.recurrent_kernel)\n",
    "        output = keras.activations.relu(h)\n",
    "        return output, [output]\n",
    "\n",
    "## initialize the custom layer\n",
    "my_cell = MySimpleRNNCell(units=1) ## call the function \"__init__\"\n",
    "my_layer = RNN(my_cell) ## RNN manage the states\n",
    "\n",
    "## build the model\n",
    "input1 = keras.Input((5,1))\n",
    "output = my_layer(input1) ## call the function \"build\"\n",
    "\n",
    "## make a prediction\n",
    "data = np.array([0.1, 0.2, 0.3, 0.4, 0.5]).reshape((1,5,1))\n"
   ]
  },
  {
   "cell_type": "code",
   "execution_count": null,
   "metadata": {},
   "outputs": [],
   "source": []
  }
 ],
 "metadata": {
  "kernelspec": {
   "display_name": "Python 3",
   "language": "python",
   "name": "python3"
  },
  "language_info": {
   "codemirror_mode": {
    "name": "ipython",
    "version": 3
   },
   "file_extension": ".py",
   "mimetype": "text/x-python",
   "name": "python",
   "nbconvert_exporter": "python",
   "pygments_lexer": "ipython3",
   "version": "3.6.8"
  }
 },
 "nbformat": 4,
 "nbformat_minor": 2
}

{
 "cells": [
  {
   "cell_type": "markdown",
   "metadata": {},
   "source": [
    "# K-means\n",
    "\n",
    "We will see an example of the k-means algorithm on synthetic data, and then you will play with it on financial ratios data."
   ]
  },
  {
   "cell_type": "code",
   "execution_count": 1,
   "metadata": {},
   "outputs": [
    {
     "name": "stderr",
     "output_type": "stream",
     "text": [
      "/home/alexander/.local/lib/python3.6/site-packages/tensorflow/python/framework/dtypes.py:516: FutureWarning: Passing (type, 1) or '1type' as a synonym of type is deprecated; in a future version of numpy, it will be understood as (type, (1,)) / '(1,)type'.\n",
      "  _np_qint8 = np.dtype([(\"qint8\", np.int8, 1)])\n",
      "/home/alexander/.local/lib/python3.6/site-packages/tensorflow/python/framework/dtypes.py:517: FutureWarning: Passing (type, 1) or '1type' as a synonym of type is deprecated; in a future version of numpy, it will be understood as (type, (1,)) / '(1,)type'.\n",
      "  _np_quint8 = np.dtype([(\"quint8\", np.uint8, 1)])\n",
      "/home/alexander/.local/lib/python3.6/site-packages/tensorflow/python/framework/dtypes.py:518: FutureWarning: Passing (type, 1) or '1type' as a synonym of type is deprecated; in a future version of numpy, it will be understood as (type, (1,)) / '(1,)type'.\n",
      "  _np_qint16 = np.dtype([(\"qint16\", np.int16, 1)])\n",
      "/home/alexander/.local/lib/python3.6/site-packages/tensorflow/python/framework/dtypes.py:519: FutureWarning: Passing (type, 1) or '1type' as a synonym of type is deprecated; in a future version of numpy, it will be understood as (type, (1,)) / '(1,)type'.\n",
      "  _np_quint16 = np.dtype([(\"quint16\", np.uint16, 1)])\n",
      "/home/alexander/.local/lib/python3.6/site-packages/tensorflow/python/framework/dtypes.py:520: FutureWarning: Passing (type, 1) or '1type' as a synonym of type is deprecated; in a future version of numpy, it will be understood as (type, (1,)) / '(1,)type'.\n",
      "  _np_qint32 = np.dtype([(\"qint32\", np.int32, 1)])\n",
      "/home/alexander/.local/lib/python3.6/site-packages/tensorflow/python/framework/dtypes.py:525: FutureWarning: Passing (type, 1) or '1type' as a synonym of type is deprecated; in a future version of numpy, it will be understood as (type, (1,)) / '(1,)type'.\n",
      "  np_resource = np.dtype([(\"resource\", np.ubyte, 1)])\n",
      "/home/alexander/.local/lib/python3.6/site-packages/tensorboard/compat/tensorflow_stub/dtypes.py:541: FutureWarning: Passing (type, 1) or '1type' as a synonym of type is deprecated; in a future version of numpy, it will be understood as (type, (1,)) / '(1,)type'.\n",
      "  _np_qint8 = np.dtype([(\"qint8\", np.int8, 1)])\n",
      "/home/alexander/.local/lib/python3.6/site-packages/tensorboard/compat/tensorflow_stub/dtypes.py:542: FutureWarning: Passing (type, 1) or '1type' as a synonym of type is deprecated; in a future version of numpy, it will be understood as (type, (1,)) / '(1,)type'.\n",
      "  _np_quint8 = np.dtype([(\"quint8\", np.uint8, 1)])\n",
      "/home/alexander/.local/lib/python3.6/site-packages/tensorboard/compat/tensorflow_stub/dtypes.py:543: FutureWarning: Passing (type, 1) or '1type' as a synonym of type is deprecated; in a future version of numpy, it will be understood as (type, (1,)) / '(1,)type'.\n",
      "  _np_qint16 = np.dtype([(\"qint16\", np.int16, 1)])\n",
      "/home/alexander/.local/lib/python3.6/site-packages/tensorboard/compat/tensorflow_stub/dtypes.py:544: FutureWarning: Passing (type, 1) or '1type' as a synonym of type is deprecated; in a future version of numpy, it will be understood as (type, (1,)) / '(1,)type'.\n",
      "  _np_quint16 = np.dtype([(\"quint16\", np.uint16, 1)])\n",
      "/home/alexander/.local/lib/python3.6/site-packages/tensorboard/compat/tensorflow_stub/dtypes.py:545: FutureWarning: Passing (type, 1) or '1type' as a synonym of type is deprecated; in a future version of numpy, it will be understood as (type, (1,)) / '(1,)type'.\n",
      "  _np_qint32 = np.dtype([(\"qint32\", np.int32, 1)])\n",
      "/home/alexander/.local/lib/python3.6/site-packages/tensorboard/compat/tensorflow_stub/dtypes.py:550: FutureWarning: Passing (type, 1) or '1type' as a synonym of type is deprecated; in a future version of numpy, it will be understood as (type, (1,)) / '(1,)type'.\n",
      "  np_resource = np.dtype([(\"resource\", np.ubyte, 1)])\n"
     ]
    }
   ],
   "source": [
    "import tensorflow as tf\n",
    "import numpy as np\n",
    "import matplotlib.pyplot as plt\n",
    "\n",
    "tf.logging.set_verbosity(tf.logging.ERROR)"
   ]
  },
  {
   "cell_type": "markdown",
   "metadata": {},
   "source": [
    "## Synthetic data\n",
    "\n",
    "First, a couple of function to generate and plot clusters."
   ]
  },
  {
   "cell_type": "code",
   "execution_count": 2,
   "metadata": {},
   "outputs": [],
   "source": [
    "## functions to generate and plot clusters are modified version from \n",
    "## https://databricks.com/tensorflow/clustering-and-k-means\n",
    "## which also contains a custom implementation of Loyd's algorithm\n",
    "\n",
    "def random_clusters(n_clusters, n_samples_per_cluster, n_features, \n",
    "                    embiggen_factor=100, seed=123):\n",
    "    #Generate random clusters of points\n",
    "    np.random.seed(seed)\n",
    "    slices = []\n",
    "    centroids = []\n",
    "    # Create samples for each cluster\n",
    "    for i in range(n_clusters):\n",
    "        samples = tf.random_normal((n_samples_per_cluster, n_features),\n",
    "                                   mean=0.0, stddev=5.0, dtype=tf.float32, \n",
    "                                   seed=seed, name=\"cluster_{}\".format(i))\n",
    "        current_centroid = ((np.random.random((1, n_features)) * \n",
    "                             embiggen_factor) - (embiggen_factor/2))\n",
    "        centroids.append(current_centroid)\n",
    "        samples += current_centroid\n",
    "        slices.append(samples)\n",
    "        \n",
    "    # Create a big \"samples\" dataset\n",
    "    samples = tf.concat(slices, 0, name='samples')\n",
    "    centroids = tf.concat(centroids, 0, name='centroids')\n",
    "    indices = []\n",
    "    for i in range(n_clusters):\n",
    "        indices.extend([i] * n_samples_per_cluster)\n",
    "    return centroids, samples, indices\n",
    "\n",
    "def plot_clusters(all_samples, centroids, indices):\n",
    "    #Plot out the different clusters\n",
    "    #Choose a different colour for each cluster\n",
    "    colour = plt.cm.rainbow(np.linspace(0,1,len(centroids)))\n",
    "    for i, centroid in enumerate(centroids):\n",
    "         #Grab just the samples fpr the given cluster and plot them out with a new colour\n",
    "         samples = all_samples[np.array(indices) == i]\n",
    "         plt.scatter(samples[:,0], samples[:,1], c=colour[i])\n",
    "         #Also plot centroid\n",
    "         plt.plot(centroid[0], centroid[1], markersize=35, marker=\"x\", \n",
    "                  color='k', mew=10)\n",
    "         plt.plot(centroid[0], centroid[1], markersize=30, marker=\"x\", \n",
    "                  color='m', mew=5)\n",
    "    plt.show()"
   ]
  },
  {
   "cell_type": "markdown",
   "metadata": {},
   "source": [
    "Now we generate and display clusters."
   ]
  },
  {
   "cell_type": "code",
   "execution_count": 3,
   "metadata": {},
   "outputs": [
    {
     "name": "stderr",
     "output_type": "stream",
     "text": [
      "WARNING: Logging before flag parsing goes to stderr.\n",
      "W1007 14:15:40.301584 140212664227648 _axes.py:4271] 'c' argument looks like a single numeric RGB or RGBA sequence, which should be avoided as value-mapping will have precedence in case its length matches with 'x' & 'y'.  Please use a 2-D array with a single row if you really want to specify the same RGB or RGBA value for all points.\n",
      "W1007 14:15:40.333232 140212664227648 _axes.py:4271] 'c' argument looks like a single numeric RGB or RGBA sequence, which should be avoided as value-mapping will have precedence in case its length matches with 'x' & 'y'.  Please use a 2-D array with a single row if you really want to specify the same RGB or RGBA value for all points.\n"
     ]
    },
    {
     "data": {
      "image/png": "[encoded data removed]",
      "text/plain": [
       "<Figure size 432x288 with 1 Axes>"
      ]
     },
     "metadata": {
      "needs_background": "light"
     },
     "output_type": "display_data"
    }
   ],
   "source": [
    "## simulate clusters\n",
    "n_features = 2\n",
    "n_clusters = 2\n",
    "n_samples_per_cluster = 500\n",
    "\n",
    "## change the random seed to get different clusters\n",
    "seed = 111\n",
    "## controls how spreaded the clusters are\n",
    "embiggen_factor = 50\n",
    "\n",
    "centroids, samples, indices = random_clusters(n_clusters, \n",
    "                                              n_samples_per_cluster, \n",
    "                                              n_features, \n",
    "                                              embiggen_factor=embiggen_factor,\n",
    "                                              seed=seed)\n",
    "\n",
    "model = tf.global_variables_initializer()\n",
    "with tf.Session() as session:\n",
    "    sample_values = session.run(samples)\n",
    "    centroid_values = session.run(centroids)\n",
    "    \n",
    "plot_clusters(sample_values, centroid_values, indices)"
   ]
  },
  {
   "cell_type": "markdown",
   "metadata": {},
   "source": [
    "## Build and train\n",
    "\n",
    "We will use a contributed version of the k-means algorithm that implements key functions to be called sequentially. The limited documentation available is [here](https://www.tensorflow.org/versions/r1.14/api_docs/python/tf/contrib/factorization/KMeans)."
   ]
  },
  {
   "cell_type": "code",
   "execution_count": 4,
   "metadata": {},
   "outputs": [
    {
     "name": "stdout",
     "output_type": "stream",
     "text": [
      "score: 420873.78\n",
      "delta: [[-0.4542246 -1.7105579]\n",
      " [-5.0484595 17.072668 ]]\n",
      "score: 101424.17\n",
      "delta: [[-3.3242908  1.7579956]\n",
      " [-1.7847699  9.049927 ]]\n",
      "score: 47156.742\n",
      "delta: [[-0.11999273  0.2946911 ]\n",
      " [-0.12638474  0.538743  ]]\n",
      "score: 46953.008\n",
      "delta: [[0. 0.]\n",
      " [0. 0.]]\n",
      "score: 46953.008\n",
      "delta: [[0. 0.]\n",
      " [0. 0.]]\n",
      "score: 46953.008\n",
      "delta: [[0. 0.]\n",
      " [0. 0.]]\n",
      "score: 46953.008\n",
      "delta: [[0. 0.]\n",
      " [0. 0.]]\n",
      "score: 46953.008\n",
      "delta: [[0. 0.]\n",
      " [0. 0.]]\n",
      "score: 46953.008\n",
      "delta: [[0. 0.]\n",
      " [0. 0.]]\n",
      "score: 46953.008\n",
      "cluster centers:\n",
      " [[  5.682289 -16.567692]\n",
      " [ -3.123263  13.441949]]\n"
     ]
    }
   ],
   "source": [
    "## create estimator\n",
    "kmeans = tf.contrib.factorization.KMeansClustering(\n",
    "    num_clusters=n_clusters, use_mini_batch=False)\n",
    "\n",
    "## input function\n",
    "def input_fn():\n",
    "    return tf.compat.v1.train.limit_epochs(\n",
    "        tf.convert_to_tensor(sample_values, dtype=tf.float32), num_epochs=1)\n",
    "\n",
    "# train\n",
    "num_iterations = 10\n",
    "previous_centers = None\n",
    "for _ in range(num_iterations):\n",
    "    kmeans.train(input_fn)\n",
    "    cluster_centers = kmeans.cluster_centers()\n",
    "    if previous_centers is not None:\n",
    "        print('delta:', cluster_centers - previous_centers)\n",
    "    previous_centers = cluster_centers\n",
    "    print('score:', kmeans.score(input_fn))\n",
    "print('cluster centers:\\n', cluster_centers)"
   ]
  },
  {
   "cell_type": "markdown",
   "metadata": {},
   "source": [
    "## Display fitted clusters"
   ]
  },
  {
   "cell_type": "code",
   "execution_count": 5,
   "metadata": {},
   "outputs": [
    {
     "name": "stderr",
     "output_type": "stream",
     "text": [
      "W1007 14:15:56.316619 140212664227648 _axes.py:4271] 'c' argument looks like a single numeric RGB or RGBA sequence, which should be avoided as value-mapping will have precedence in case its length matches with 'x' & 'y'.  Please use a 2-D array with a single row if you really want to specify the same RGB or RGBA value for all points.\n",
      "W1007 14:15:56.333110 140212664227648 _axes.py:4271] 'c' argument looks like a single numeric RGB or RGBA sequence, which should be avoided as value-mapping will have precedence in case its length matches with 'x' & 'y'.  Please use a 2-D array with a single row if you really want to specify the same RGB or RGBA value for all points.\n"
     ]
    },
    {
     "data": {
      "image/png": "[encoded data removed]",
      "text/plain": [
       "<Figure size 432x288 with 1 Axes>"
      ]
     },
     "metadata": {
      "needs_background": "light"
     },
     "output_type": "display_data"
    }
   ],
   "source": [
    "# map the input points to their clusters\n",
    "cluster_indices = list(kmeans.predict_cluster_index(input_fn))\n",
    "\n",
    "## plot fitted values\n",
    "plot_clusters(sample_values, cluster_centers, cluster_indices)"
   ]
  },
  {
   "cell_type": "markdown",
   "metadata": {},
   "source": [
    "## Exercises\n",
    "\n",
    "The objective is to try to cluster companies based on a some financial ratios, and see if you can retrieve the sectors (for example), find similarities or specificities across sectors, and identify abnormal firms.\n",
    "\n",
    "* load the data `financial_ratios_201901.csv`\n",
    "* compute basic statistics about its features\n",
    "* how do you deal with:\n",
    "  * missing data (ou may start by ignoring rows with NA values to get started)\n",
    "  * features with different variances\n",
    "* does your above choices affect the clusters?\n",
    "* how would you identify abnormal companies?"
   ]
  },
  {
   "cell_type": "code",
   "execution_count": null,
   "metadata": {},
   "outputs": [],
   "source": []
  }
 ],
 "metadata": {
  "kernelspec": {
   "display_name": "Python 3",
   "language": "python",
   "name": "python3"
  },
  "language_info": {
   "codemirror_mode": {
    "name": "ipython",
    "version": 3
   },
   "file_extension": ".py",
   "mimetype": "text/x-python",
   "name": "python",
   "nbconvert_exporter": "python",
   "pygments_lexer": "ipython3",
   "version": "3.6.8"
  }
 },
 "nbformat": 4,
 "nbformat_minor": 2
}

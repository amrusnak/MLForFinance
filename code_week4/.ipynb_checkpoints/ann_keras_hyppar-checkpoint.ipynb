{
 "cells": [
  {
   "cell_type": "markdown",
   "metadata": {},
   "source": [
    "# ANN with Keras and hyper-parameters exploration"
   ]
  },
  {
   "cell_type": "code",
   "execution_count": 1,
   "metadata": {},
   "outputs": [
    {
     "name": "stderr",
     "output_type": "stream",
     "text": [
      "/home/alexander/.local/lib/python3.6/site-packages/tensorflow/python/framework/dtypes.py:516: FutureWarning: Passing (type, 1) or '1type' as a synonym of type is deprecated; in a future version of numpy, it will be understood as (type, (1,)) / '(1,)type'.\n",
      "  _np_qint8 = np.dtype([(\"qint8\", np.int8, 1)])\n",
      "/home/alexander/.local/lib/python3.6/site-packages/tensorflow/python/framework/dtypes.py:517: FutureWarning: Passing (type, 1) or '1type' as a synonym of type is deprecated; in a future version of numpy, it will be understood as (type, (1,)) / '(1,)type'.\n",
      "  _np_quint8 = np.dtype([(\"quint8\", np.uint8, 1)])\n",
      "/home/alexander/.local/lib/python3.6/site-packages/tensorflow/python/framework/dtypes.py:518: FutureWarning: Passing (type, 1) or '1type' as a synonym of type is deprecated; in a future version of numpy, it will be understood as (type, (1,)) / '(1,)type'.\n",
      "  _np_qint16 = np.dtype([(\"qint16\", np.int16, 1)])\n",
      "/home/alexander/.local/lib/python3.6/site-packages/tensorflow/python/framework/dtypes.py:519: FutureWarning: Passing (type, 1) or '1type' as a synonym of type is deprecated; in a future version of numpy, it will be understood as (type, (1,)) / '(1,)type'.\n",
      "  _np_quint16 = np.dtype([(\"quint16\", np.uint16, 1)])\n",
      "/home/alexander/.local/lib/python3.6/site-packages/tensorflow/python/framework/dtypes.py:520: FutureWarning: Passing (type, 1) or '1type' as a synonym of type is deprecated; in a future version of numpy, it will be understood as (type, (1,)) / '(1,)type'.\n",
      "  _np_qint32 = np.dtype([(\"qint32\", np.int32, 1)])\n",
      "/home/alexander/.local/lib/python3.6/site-packages/tensorflow/python/framework/dtypes.py:525: FutureWarning: Passing (type, 1) or '1type' as a synonym of type is deprecated; in a future version of numpy, it will be understood as (type, (1,)) / '(1,)type'.\n",
      "  np_resource = np.dtype([(\"resource\", np.ubyte, 1)])\n",
      "/home/alexander/.local/lib/python3.6/site-packages/tensorboard/compat/tensorflow_stub/dtypes.py:541: FutureWarning: Passing (type, 1) or '1type' as a synonym of type is deprecated; in a future version of numpy, it will be understood as (type, (1,)) / '(1,)type'.\n",
      "  _np_qint8 = np.dtype([(\"qint8\", np.int8, 1)])\n",
      "/home/alexander/.local/lib/python3.6/site-packages/tensorboard/compat/tensorflow_stub/dtypes.py:542: FutureWarning: Passing (type, 1) or '1type' as a synonym of type is deprecated; in a future version of numpy, it will be understood as (type, (1,)) / '(1,)type'.\n",
      "  _np_quint8 = np.dtype([(\"quint8\", np.uint8, 1)])\n",
      "/home/alexander/.local/lib/python3.6/site-packages/tensorboard/compat/tensorflow_stub/dtypes.py:543: FutureWarning: Passing (type, 1) or '1type' as a synonym of type is deprecated; in a future version of numpy, it will be understood as (type, (1,)) / '(1,)type'.\n",
      "  _np_qint16 = np.dtype([(\"qint16\", np.int16, 1)])\n",
      "/home/alexander/.local/lib/python3.6/site-packages/tensorboard/compat/tensorflow_stub/dtypes.py:544: FutureWarning: Passing (type, 1) or '1type' as a synonym of type is deprecated; in a future version of numpy, it will be understood as (type, (1,)) / '(1,)type'.\n",
      "  _np_quint16 = np.dtype([(\"quint16\", np.uint16, 1)])\n",
      "/home/alexander/.local/lib/python3.6/site-packages/tensorboard/compat/tensorflow_stub/dtypes.py:545: FutureWarning: Passing (type, 1) or '1type' as a synonym of type is deprecated; in a future version of numpy, it will be understood as (type, (1,)) / '(1,)type'.\n",
      "  _np_qint32 = np.dtype([(\"qint32\", np.int32, 1)])\n",
      "/home/alexander/.local/lib/python3.6/site-packages/tensorboard/compat/tensorflow_stub/dtypes.py:550: FutureWarning: Passing (type, 1) or '1type' as a synonym of type is deprecated; in a future version of numpy, it will be understood as (type, (1,)) / '(1,)type'.\n",
      "  np_resource = np.dtype([(\"resource\", np.ubyte, 1)])\n"
     ]
    }
   ],
   "source": [
    "import tensorflow as tf\n",
    "from tensorflow import keras\n",
    "\n",
    "tf.logging.set_verbosity(tf.logging.ERROR)"
   ]
  },
  {
   "cell_type": "markdown",
   "metadata": {},
   "source": [
    "We will use the library [deepreplay](https://github.com/dvgodoy/deepreplay) and some examples from its creator to visualise the ANN. However, they are curently some issues in the official version with the tensorflow v1.14 backend so please install from the following repository."
   ]
  },
  {
   "cell_type": "code",
   "execution_count": 2,
   "metadata": {},
   "outputs": [
    {
     "name": "stdout",
     "output_type": "stream",
     "text": [
      "Collecting git+https://github.com/dackerer/deepreplay\n",
      "  Cloning https://github.com/dackerer/deepreplay to /tmp/pip-pYUdw7-build\n",
      "Collecting matplotlib (from deepreplay==0.1.2a2)\n",
      "  Using cached https://files.pythonhosted.org/packages/32/6b/0368cfa5e1d1ae169ab7dc78addda3fd5e6262e48d7373a9114bac7caff7/matplotlib-2.2.4-cp27-cp27mu-manylinux1_x86_64.whl\n",
      "Collecting numpy (from deepreplay==0.1.2a2)\n",
      "  Using cached https://files.pythonhosted.org/packages/d7/b1/3367ea1f372957f97a6752ec725b87886e12af1415216feec9067e31df70/numpy-1.16.5-cp27-cp27mu-manylinux1_x86_64.whl\n",
      "Collecting h5py (from deepreplay==0.1.2a2)\n",
      "  Downloading https://files.pythonhosted.org/packages/12/90/3216b8f6d69905a320352a9ca6802a8e39fdb1cd93133c3d4163db8d5f19/h5py-2.10.0-cp27-cp27mu-manylinux1_x86_64.whl (2.8MB)\n",
      "\u001b[K    100% |████████████████████████████████| 2.8MB 401kB/s ta 0:00:011\n",
      "\u001b[?25hCollecting seaborn (from deepreplay==0.1.2a2)\n",
      "  Downloading https://files.pythonhosted.org/packages/7a/bf/04cfcfc9616cedd4b5dd24dfc40395965ea9f50c1db0d3f3e52b050f74a5/seaborn-0.9.0.tar.gz (198kB)\n",
      "\u001b[K    100% |████████████████████████████████| 204kB 3.2MB/s ta 0:00:01\n",
      "\u001b[?25hCollecting keras (from deepreplay==0.1.2a2)\n",
      "  Downloading https://files.pythonhosted.org/packages/ad/fd/6bfe87920d7f4fd475acd28500a42482b6b84479832bdc0fe9e589a60ceb/Keras-2.3.1-py2.py3-none-any.whl (377kB)\n",
      "\u001b[K    100% |████████████████████████████████| 378kB 978kB/s ta 0:00:011\n",
      "\u001b[?25hCollecting scikit-learn (from deepreplay==0.1.2a2)\n",
      "  Downloading https://files.pythonhosted.org/packages/31/9f/042db462417451e81035c3d43b722e88450c628a33dfda69777a801b0d40/scikit_learn-0.20.4-cp27-cp27mu-manylinux1_x86_64.whl (5.5MB)\n",
      "\u001b[K    100% |████████████████████████████████| 5.5MB 205kB/s ta 0:00:011\n",
      "\u001b[?25hCollecting cycler>=0.10 (from matplotlib->deepreplay==0.1.2a2)\n",
      "  Using cached https://files.pythonhosted.org/packages/f7/d2/e07d3ebb2bd7af696440ce7e754c59dd546ffe1bbe732c8ab68b9c834e61/cycler-0.10.0-py2.py3-none-any.whl\n",
      "Collecting backports.functools-lru-cache (from matplotlib->deepreplay==0.1.2a2)\n",
      "  Using cached https://files.pythonhosted.org/packages/03/8e/2424c0e65c4a066e28f539364deee49b6451f8fcd4f718fefa50cc3dcf48/backports.functools_lru_cache-1.5-py2.py3-none-any.whl\n",
      "Collecting subprocess32 (from matplotlib->deepreplay==0.1.2a2)\n",
      "  Using cached https://files.pythonhosted.org/packages/32/c8/564be4d12629b912ea431f1a50eb8b3b9d00f1a0b1ceff17f266be190007/subprocess32-3.5.4.tar.gz\n",
      "Collecting kiwisolver>=1.0.1 (from matplotlib->deepreplay==0.1.2a2)\n",
      "  Using cached https://files.pythonhosted.org/packages/3d/78/cb9248b2289ec31e301137cedbe4ca503a74ca87f88cdbfd2f8be52323bf/kiwisolver-1.1.0-cp27-cp27mu-manylinux1_x86_64.whl\n",
      "Collecting pytz (from matplotlib->deepreplay==0.1.2a2)\n",
      "  Downloading https://files.pythonhosted.org/packages/e7/f9/f0b53f88060247251bf481fa6ea62cd0d25bf1b11a87888e53ce5b7c8ad2/pytz-2019.3-py2.py3-none-any.whl (509kB)\n",
      "\u001b[K    100% |████████████████████████████████| 512kB 1.1MB/s ta 0:00:011\n",
      "\u001b[?25hCollecting six>=1.10 (from matplotlib->deepreplay==0.1.2a2)\n",
      "  Using cached https://files.pythonhosted.org/packages/73/fb/00a976f728d0d1fecfe898238ce23f502a721c0ac0ecfedb80e0d88c64e9/six-1.12.0-py2.py3-none-any.whl\n",
      "Collecting python-dateutil>=2.1 (from matplotlib->deepreplay==0.1.2a2)\n",
      "  Using cached https://files.pythonhosted.org/packages/41/17/c62faccbfbd163c7f57f3844689e3a78bae1f403648a6afb1d0866d87fbb/python_dateutil-2.8.0-py2.py3-none-any.whl\n",
      "Collecting pyparsing!=2.0.4,!=2.1.2,!=2.1.6,>=2.0.1 (from matplotlib->deepreplay==0.1.2a2)\n",
      "  Using cached https://files.pythonhosted.org/packages/11/fa/0160cd525c62d7abd076a070ff02b2b94de589f1a9789774f17d7c54058e/pyparsing-2.4.2-py2.py3-none-any.whl\n",
      "Collecting scipy>=0.14.0 (from seaborn->deepreplay==0.1.2a2)\n",
      "  Using cached https://files.pythonhosted.org/packages/1d/f6/7c16d60aeb3694e5611976cb4f1eaf1c6b7f1e7c55771d691013405a02ea/scipy-1.2.2-cp27-cp27mu-manylinux1_x86_64.whl\n",
      "Collecting pandas>=0.15.2 (from seaborn->deepreplay==0.1.2a2)\n",
      "  Using cached https://files.pythonhosted.org/packages/db/83/7d4008ffc2988066ff37f6a0bb6d7b60822367dcb36ba5e39aa7801fda54/pandas-0.24.2-cp27-cp27mu-manylinux1_x86_64.whl\n",
      "Collecting keras-applications>=1.0.6 (from keras->deepreplay==0.1.2a2)\n",
      "  Downloading https://files.pythonhosted.org/packages/21/56/4bcec5a8d9503a87e58e814c4e32ac2b32c37c685672c30bc8c54c6e478a/Keras_Applications-1.0.8.tar.gz (289kB)\n",
      "\u001b[K    100% |████████████████████████████████| 296kB 2.1MB/s eta 0:00:01\n",
      "\u001b[?25hCollecting keras-preprocessing>=1.0.5 (from keras->deepreplay==0.1.2a2)\n",
      "  Using cached https://files.pythonhosted.org/packages/28/6a/8c1f62c37212d9fc441a7e26736df51ce6f0e38455816445471f10da4f0a/Keras_Preprocessing-1.1.0-py2.py3-none-any.whl\n",
      "Collecting pyyaml (from keras->deepreplay==0.1.2a2)\n",
      "  Downloading https://files.pythonhosted.org/packages/e3/e8/b3212641ee2718d556df0f23f78de8303f068fe29cdaa7a91018849582fe/PyYAML-5.1.2.tar.gz (265kB)\n",
      "\u001b[K    100% |████████████████████████████████| 266kB 2.6MB/s eta 0:00:01\n",
      "\u001b[?25hCollecting setuptools (from kiwisolver>=1.0.1->matplotlib->deepreplay==0.1.2a2)\n",
      "  Downloading https://files.pythonhosted.org/packages/6a/9a/50fadfd53ec909e4399b67c74cc7f4e883488035cfcdb90b685758fa8b34/setuptools-41.4.0-py2.py3-none-any.whl (580kB)\n",
      "\u001b[K    100% |████████████████████████████████| 583kB 1.4MB/s eta 0:00:01\n",
      "\u001b[?25hBuilding wheels for collected packages: seaborn, subprocess32, keras-applications, pyyaml\n",
      "  Running setup.py bdist_wheel for seaborn ... \u001b[?25ldone\n",
      "\u001b[?25h  Stored in directory: /home/alexander/.cache/pip/wheels/fc/1c/74/c8f80a532c06a789599b8659b117ec7d7574cac4a06f7dabfe\n",
      "  Running setup.py bdist_wheel for subprocess32 ... \u001b[?25lerror\n",
      "  Complete output from command /usr/bin/python -u -c \"import setuptools, tokenize;__file__='/tmp/pip-build-glrFN8/subprocess32/setup.py';f=getattr(tokenize, 'open', open)(__file__);code=f.read().replace('\\r\\n', '\\n');f.close();exec(compile(code, __file__, 'exec'))\" bdist_wheel -d /tmp/tmpc9Jy5Ppip-wheel- --python-tag cp27:\n",
      "  running bdist_wheel\n",
      "  running build\n",
      "  running build_py\n",
      "  creating build\n",
      "  creating build/lib.linux-x86_64-2.7\n",
      "  copying subprocess32.py -> build/lib.linux-x86_64-2.7\n",
      "  running build_ext\n",
      "  running build_configure\n",
      "  checking for gcc... gcc\n",
      "  checking whether the C compiler works... no\n",
      "  configure: error: in `/tmp/pip-build-glrFN8/subprocess32':\n",
      "  configure: error: C compiler cannot create executables\n",
      "  See `config.log' for more details\n",
      "  Traceback (most recent call last):\n",
      "    File \"<string>\", line 1, in <module>\n",
      "    File \"/tmp/pip-build-glrFN8/subprocess32/setup.py\", line 120, in <module>\n",
      "      main()\n",
      "    File \"/tmp/pip-build-glrFN8/subprocess32/setup.py\", line 114, in main\n",
      "      'Programming Language :: Python :: Implementation :: CPython',\n",
      "    File \"/home/alexander/.local/lib/python2.7/site-packages/setuptools/__init__.py\", line 145, in setup\n",
      "      return distutils.core.setup(**attrs)\n",
      "    File \"/usr/lib/python2.7/distutils/core.py\", line 151, in setup\n",
      "      dist.run_commands()\n",
      "    File \"/usr/lib/python2.7/distutils/dist.py\", line 953, in run_commands\n",
      "      self.run_command(cmd)\n",
      "    File \"/usr/lib/python2.7/distutils/dist.py\", line 972, in run_command\n",
      "      cmd_obj.run()\n",
      "    File \"/home/alexander/.local/lib/python2.7/site-packages/wheel/bdist_wheel.py\", line 192, in run\n",
      "      self.run_command('build')\n",
      "    File \"/usr/lib/python2.7/distutils/cmd.py\", line 326, in run_command\n",
      "      self.distribution.run_command(command)\n",
      "    File \"/usr/lib/python2.7/distutils/dist.py\", line 972, in run_command\n",
      "      cmd_obj.run()\n",
      "    File \"/usr/lib/python2.7/distutils/command/build.py\", line 128, in run\n",
      "      self.run_command(cmd_name)\n",
      "    File \"/usr/lib/python2.7/distutils/cmd.py\", line 326, in run_command\n",
      "      self.distribution.run_command(command)\n",
      "    File \"/usr/lib/python2.7/distutils/dist.py\", line 972, in run_command\n",
      "      cmd_obj.run()\n",
      "    File \"/tmp/pip-build-glrFN8/subprocess32/setup.py\", line 41, in run\n",
      "      self.run_command(command)\n",
      "    File \"/usr/lib/python2.7/distutils/cmd.py\", line 326, in run_command\n",
      "      self.distribution.run_command(command)\n",
      "    File \"/usr/lib/python2.7/distutils/dist.py\", line 972, in run_command\n",
      "      cmd_obj.run()\n",
      "    File \"/tmp/pip-build-glrFN8/subprocess32/setup.py\", line 26, in run\n",
      "      raise RuntimeError(configure_command + ' failed.')\n",
      "  RuntimeError: sh ./configure failed.\n",
      "  \n",
      "  ----------------------------------------\n",
      "\u001b[31m  Failed building wheel for subprocess32\u001b[0m\n",
      "\u001b[?25h  Running setup.py clean for subprocess32\n"
     ]
    },
    {
     "name": "stdout",
     "output_type": "stream",
     "text": [
      "  Running setup.py bdist_wheel for keras-applications ... \u001b[?25ldone\n",
      "\u001b[?25h  Stored in directory: /home/alexander/.cache/pip/wheels/dd/f2/5d/2689b5547f32c4e258c3b7ccbe7f1d0f2afbb84fb01e830792\n",
      "  Running setup.py bdist_wheel for pyyaml ... \u001b[?25ldone\n",
      "\u001b[?25h  Stored in directory: /home/alexander/.cache/pip/wheels/d9/45/dd/65f0b38450c47cf7e5312883deb97d065e030c5cca0a365030\n",
      "Successfully built seaborn keras-applications pyyaml\n",
      "Failed to build subprocess32\n",
      "Installing collected packages: six, cycler, numpy, backports.functools-lru-cache, subprocess32, setuptools, kiwisolver, pytz, python-dateutil, pyparsing, matplotlib, h5py, scipy, pandas, seaborn, keras-applications, keras-preprocessing, pyyaml, keras, scikit-learn, deepreplay\n",
      "  Running setup.py install for subprocess32 ... \u001b[?25lerror\n",
      "    Complete output from command /usr/bin/python -u -c \"import setuptools, tokenize;__file__='/tmp/pip-build-glrFN8/subprocess32/setup.py';f=getattr(tokenize, 'open', open)(__file__);code=f.read().replace('\\r\\n', '\\n');f.close();exec(compile(code, __file__, 'exec'))\" install --record /tmp/pip-eIFI1S-record/install-record.txt --single-version-externally-managed --compile --user --prefix=:\n",
      "    running install\n",
      "    running build\n",
      "    running build_py\n",
      "    creating build\n",
      "    creating build/lib.linux-x86_64-2.7\n",
      "    copying subprocess32.py -> build/lib.linux-x86_64-2.7\n",
      "    running build_ext\n",
      "    running build_configure\n",
      "    checking for gcc... gcc\n",
      "    checking whether the C compiler works... no\n",
      "    configure: error: in `/tmp/pip-build-glrFN8/subprocess32':\n",
      "    configure: error: C compiler cannot create executables\n",
      "    See `config.log' for more details\n",
      "    Traceback (most recent call last):\n",
      "      File \"<string>\", line 1, in <module>\n",
      "      File \"/tmp/pip-build-glrFN8/subprocess32/setup.py\", line 120, in <module>\n",
      "        main()\n",
      "      File \"/tmp/pip-build-glrFN8/subprocess32/setup.py\", line 114, in main\n",
      "        'Programming Language :: Python :: Implementation :: CPython',\n",
      "      File \"/home/alexander/.local/lib/python2.7/site-packages/setuptools/__init__.py\", line 145, in setup\n",
      "        return distutils.core.setup(**attrs)\n",
      "      File \"/usr/lib/python2.7/distutils/core.py\", line 151, in setup\n",
      "        dist.run_commands()\n",
      "      File \"/usr/lib/python2.7/distutils/dist.py\", line 953, in run_commands\n",
      "        self.run_command(cmd)\n",
      "      File \"/usr/lib/python2.7/distutils/dist.py\", line 972, in run_command\n",
      "        cmd_obj.run()\n",
      "      File \"/home/alexander/.local/lib/python2.7/site-packages/setuptools/command/install.py\", line 61, in run\n",
      "        return orig.install.run(self)\n",
      "      File \"/usr/lib/python2.7/distutils/command/install.py\", line 601, in run\n",
      "        self.run_command('build')\n",
      "      File \"/usr/lib/python2.7/distutils/cmd.py\", line 326, in run_command\n",
      "        self.distribution.run_command(command)\n",
      "      File \"/usr/lib/python2.7/distutils/dist.py\", line 972, in run_command\n",
      "        cmd_obj.run()\n",
      "      File \"/usr/lib/python2.7/distutils/command/build.py\", line 128, in run\n",
      "        self.run_command(cmd_name)\n",
      "      File \"/usr/lib/python2.7/distutils/cmd.py\", line 326, in run_command\n",
      "        self.distribution.run_command(command)\n",
      "      File \"/usr/lib/python2.7/distutils/dist.py\", line 972, in run_command\n",
      "        cmd_obj.run()\n",
      "      File \"/tmp/pip-build-glrFN8/subprocess32/setup.py\", line 41, in run\n",
      "        self.run_command(command)\n",
      "      File \"/usr/lib/python2.7/distutils/cmd.py\", line 326, in run_command\n",
      "        self.distribution.run_command(command)\n",
      "      File \"/usr/lib/python2.7/distutils/dist.py\", line 972, in run_command\n",
      "        cmd_obj.run()\n",
      "      File \"/tmp/pip-build-glrFN8/subprocess32/setup.py\", line 26, in run\n",
      "        raise RuntimeError(configure_command + ' failed.')\n",
      "    RuntimeError: sh ./configure failed.\n",
      "    \n",
      "    ----------------------------------------\n",
      "\u001b[31mCommand \"/usr/bin/python -u -c \"import setuptools, tokenize;__file__='/tmp/pip-build-glrFN8/subprocess32/setup.py';f=getattr(tokenize, 'open', open)(__file__);code=f.read().replace('\\r\\n', '\\n');f.close();exec(compile(code, __file__, 'exec'))\" install --record /tmp/pip-eIFI1S-record/install-record.txt --single-version-externally-managed --compile --user --prefix=\" failed with error code 1 in /tmp/pip-build-glrFN8/subprocess32/\u001b[0m\n",
      "\u001b[?25h"
     ]
    }
   ],
   "source": [
    "!pip install git+https://github.com/dackerer/deepreplay"
   ]
  },
  {
   "cell_type": "markdown",
   "metadata": {},
   "source": [
    "Let's generate some labelled data, and some plot function for later."
   ]
  },
  {
   "cell_type": "code",
   "execution_count": 1,
   "metadata": {},
   "outputs": [
    {
     "name": "stderr",
     "output_type": "stream",
     "text": [
      "Using TensorFlow backend.\n",
      "/home/alexander/.local/lib/python3.6/site-packages/tensorflow/python/framework/dtypes.py:516: FutureWarning: Passing (type, 1) or '1type' as a synonym of type is deprecated; in a future version of numpy, it will be understood as (type, (1,)) / '(1,)type'.\n",
      "  _np_qint8 = np.dtype([(\"qint8\", np.int8, 1)])\n",
      "/home/alexander/.local/lib/python3.6/site-packages/tensorflow/python/framework/dtypes.py:517: FutureWarning: Passing (type, 1) or '1type' as a synonym of type is deprecated; in a future version of numpy, it will be understood as (type, (1,)) / '(1,)type'.\n",
      "  _np_quint8 = np.dtype([(\"quint8\", np.uint8, 1)])\n",
      "/home/alexander/.local/lib/python3.6/site-packages/tensorflow/python/framework/dtypes.py:518: FutureWarning: Passing (type, 1) or '1type' as a synonym of type is deprecated; in a future version of numpy, it will be understood as (type, (1,)) / '(1,)type'.\n",
      "  _np_qint16 = np.dtype([(\"qint16\", np.int16, 1)])\n",
      "/home/alexander/.local/lib/python3.6/site-packages/tensorflow/python/framework/dtypes.py:519: FutureWarning: Passing (type, 1) or '1type' as a synonym of type is deprecated; in a future version of numpy, it will be understood as (type, (1,)) / '(1,)type'.\n",
      "  _np_quint16 = np.dtype([(\"quint16\", np.uint16, 1)])\n",
      "/home/alexander/.local/lib/python3.6/site-packages/tensorflow/python/framework/dtypes.py:520: FutureWarning: Passing (type, 1) or '1type' as a synonym of type is deprecated; in a future version of numpy, it will be understood as (type, (1,)) / '(1,)type'.\n",
      "  _np_qint32 = np.dtype([(\"qint32\", np.int32, 1)])\n",
      "/home/alexander/.local/lib/python3.6/site-packages/tensorflow/python/framework/dtypes.py:525: FutureWarning: Passing (type, 1) or '1type' as a synonym of type is deprecated; in a future version of numpy, it will be understood as (type, (1,)) / '(1,)type'.\n",
      "  np_resource = np.dtype([(\"resource\", np.ubyte, 1)])\n",
      "/home/alexander/.local/lib/python3.6/site-packages/tensorboard/compat/tensorflow_stub/dtypes.py:541: FutureWarning: Passing (type, 1) or '1type' as a synonym of type is deprecated; in a future version of numpy, it will be understood as (type, (1,)) / '(1,)type'.\n",
      "  _np_qint8 = np.dtype([(\"qint8\", np.int8, 1)])\n",
      "/home/alexander/.local/lib/python3.6/site-packages/tensorboard/compat/tensorflow_stub/dtypes.py:542: FutureWarning: Passing (type, 1) or '1type' as a synonym of type is deprecated; in a future version of numpy, it will be understood as (type, (1,)) / '(1,)type'.\n",
      "  _np_quint8 = np.dtype([(\"quint8\", np.uint8, 1)])\n",
      "/home/alexander/.local/lib/python3.6/site-packages/tensorboard/compat/tensorflow_stub/dtypes.py:543: FutureWarning: Passing (type, 1) or '1type' as a synonym of type is deprecated; in a future version of numpy, it will be understood as (type, (1,)) / '(1,)type'.\n",
      "  _np_qint16 = np.dtype([(\"qint16\", np.int16, 1)])\n",
      "/home/alexander/.local/lib/python3.6/site-packages/tensorboard/compat/tensorflow_stub/dtypes.py:544: FutureWarning: Passing (type, 1) or '1type' as a synonym of type is deprecated; in a future version of numpy, it will be understood as (type, (1,)) / '(1,)type'.\n",
      "  _np_quint16 = np.dtype([(\"quint16\", np.uint16, 1)])\n",
      "/home/alexander/.local/lib/python3.6/site-packages/tensorboard/compat/tensorflow_stub/dtypes.py:545: FutureWarning: Passing (type, 1) or '1type' as a synonym of type is deprecated; in a future version of numpy, it will be understood as (type, (1,)) / '(1,)type'.\n",
      "  _np_qint32 = np.dtype([(\"qint32\", np.int32, 1)])\n",
      "/home/alexander/.local/lib/python3.6/site-packages/tensorboard/compat/tensorflow_stub/dtypes.py:550: FutureWarning: Passing (type, 1) or '1type' as a synonym of type is deprecated; in a future version of numpy, it will be understood as (type, (1,)) / '(1,)type'.\n",
      "  np_resource = np.dtype([(\"resource\", np.ubyte, 1)])\n"
     ]
    },
    {
     "data": {
      "text/plain": [
       "<Figure size 640x480 with 1 Axes>"
      ]
     },
     "metadata": {},
     "output_type": "display_data"
    }
   ],
   "source": [
    "from deepreplay.datasets.ball import load_data\n",
    "from deepreplay.callbacks import ReplayData\n",
    "from deepreplay.replay import Replay\n",
    "from deepreplay.plot import compose_plots\n",
    "import matplotlib.pyplot as plt\n",
    "\n",
    "# number of features\n",
    "n_input = 2\n",
    "# generate data\n",
    "X, Y = load_data(n_dims=n_input)\n",
    "\n",
    "# Plot points\n",
    "plt.scatter(X[:,0], X[:,1], c=Y.squeeze())\n",
    "plt.show()\n",
    "\n",
    "def plot_model(filename, group_name):\n",
    "    '''\n",
    "    plot function from: https://github.com/dvgodoy/deepreplay\n",
    "    '''\n",
    "    replay = Replay(replay_filename=filename, group_name=group_name)\n",
    "    fig = plt.figure(figsize=(12, 6))\n",
    "    ax_zvalues = plt.subplot2grid((2, 2), (0, 0))\n",
    "    ax_weights = plt.subplot2grid((2, 2), (0, 1))\n",
    "    ax_activations = plt.subplot2grid((2, 2), (1, 0))\n",
    "    ax_gradients = plt.subplot2grid((2, 2), (1, 1))\n",
    "    wv = replay.build_weights(ax_weights)\n",
    "    gv = replay.build_gradients(ax_gradients)\n",
    "    zv = replay.build_outputs(ax_zvalues, before_activation=True, \n",
    "                              exclude_outputs=True, include_inputs=False)\n",
    "    av = replay.build_outputs(ax_activations, exclude_outputs=True, include_inputs=False)\n",
    "    fig = compose_plots([zv, wv, av, gv], epoch=0, title=group_name)\n",
    "    return fig"
   ]
  },
  {
   "cell_type": "markdown",
   "metadata": {},
   "source": [
    "We now create a function returning a Keras model, to be used multiple time."
   ]
  },
  {
   "cell_type": "code",
   "execution_count": null,
   "metadata": {},
   "outputs": [],
   "source": [
    "from keras.models import Sequential\n",
    "from keras.layers import Dense\n",
    "\n",
    "def build_model(n_input, activation, initializer, optimizer='sgd', units=100):\n",
    "    # Build a sequential ANN model  \n",
    "    model = Sequential([\n",
    "        Dense(units=units, activation=activation, input_shape=(n_input,), kernel_initializer=initializer, name='h1'),\n",
    "        Dense(units=units, activation=activation, kernel_initializer=initializer, name='h2'),\n",
    "        Dense(units=units, activation=activation, kernel_initializer=initializer, name='h3'),\n",
    "        Dense(units=units, activation=activation, kernel_initializer=initializer, name='h4'),\n",
    "        Dense(units=units, activation=activation, kernel_initializer=initializer, name='h5'),\n",
    "        Dense(units=1, activation='sigmoid', kernel_initializer=initializer, name='o')\n",
    "    ])\n",
    "    '''\n",
    "    # can also build a sequential ANN as follows\n",
    "    model = Sequential()\n",
    "    layer1 = Dense(...)\n",
    "    model.add(layer1)\n",
    "    # and so on, see https://keras.io/getting-started/sequential-model-guide/\n",
    "    '''\n",
    "    # Compiles the model\n",
    "    model.compile(loss='binary_crossentropy', optimizer=optimizer, metrics=['acc'])\n",
    "    return model"
   ]
  },
  {
   "cell_type": "markdown",
   "metadata": {},
   "source": [
    "Set a basic configuration, build, and display the model."
   ]
  },
  {
   "cell_type": "code",
   "execution_count": null,
   "metadata": {},
   "outputs": [],
   "source": [
    "## Configuration\n",
    "activation = 'sigmoid'\n",
    "stddev_value = 0.01\n",
    "initializer = keras.initializers.normal(mean=0, stddev=stddev_value)\n",
    "group_name = 'activ_' + activation +'_init_normal_stdev_' + str(stddev_value)\n",
    "\n",
    "# Model\n",
    "model = build_model(n_input=n_input, activation=activation, initializer=initializer)\n",
    "\n",
    "# Display the model\n",
    "model.summary()"
   ]
  },
  {
   "cell_type": "markdown",
   "metadata": {},
   "source": [
    "We now display some information about our ANN layers."
   ]
  },
  {
   "cell_type": "code",
   "execution_count": null,
   "metadata": {},
   "outputs": [],
   "source": [
    "filename = 'weight_init.h5'\n",
    "replaydata = ReplayData(X, Y, filename=filename, group_name=group_name, model=model)\n",
    "fig = plot_model(filename, group_name)"
   ]
  },
  {
   "cell_type": "markdown",
   "metadata": {},
   "source": [
    "## Exercises\n",
    "\n",
    "Hyper-parameters exploration\n",
    "* increase the initializer standard deviation to 0.1, then to 1.0\n",
    "* same as above with different activation function (centered at zero in particular)\n",
    "* try with glorot (normal and uniform)\n",
    "* same as above with the ReLU activation function"
   ]
  },
  {
   "cell_type": "code",
   "execution_count": null,
   "metadata": {},
   "outputs": [],
   "source": []
  }
 ],
 "metadata": {
  "kernelspec": {
   "display_name": "Python 3",
   "language": "python",
   "name": "python3"
  },
  "language_info": {
   "codemirror_mode": {
    "name": "ipython",
    "version": 3
   },
   "file_extension": ".py",
   "mimetype": "text/x-python",
   "name": "python",
   "nbconvert_exporter": "python",
   "pygments_lexer": "ipython3",
   "version": "3.6.8"
  }
 },
 "nbformat": 4,
 "nbformat_minor": 2
}
